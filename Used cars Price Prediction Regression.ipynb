{
 "cells": [
  {
   "cell_type": "markdown",
   "id": "d5e7e6e2",
   "metadata": {},
   "source": [
    "# Regression- US Used Car Price Prediction"
   ]
  },
  {
   "cell_type": "markdown",
   "id": "ee173c57",
   "metadata": {},
   "source": [
    "                        Applied Machine Learning - Project 1 \n",
    "                          MS Business Analytics- Fall 2021\n",
    "                   Laxmi Mounika Kalidindi, Sai Sravya Bhupathiraju\n",
    "\n",
    "\n",
    "Business Objective:\n",
    "Build a service/tool by utilizing Machine Learning models for estimation of Used car prices based on several characteristics of vehicles. Considered the data of USA and for the vehicles manufactured in the last 10 years from 2010-2021 and built regression model to predict the price\n",
    "\n",
    "Project Flow:\n",
    "1. Data understanding and domain knowledge\n",
    "2. Exploratory Data Analysis\n",
    "3. Data cleaning/ Pre-processing\n",
    "4. Model building\n",
    "5. Model Evaluation and Selection"
   ]
  },
  {
   "cell_type": "code",
   "execution_count": 1,
   "id": "2d59e6bf",
   "metadata": {},
   "outputs": [],
   "source": [
    "#import required packages\n",
    "import pandas as pd\n",
    "import numpy as np\n",
    "from matplotlib import pyplot as plt\n",
    "import seaborn as sns\n",
    "from scipy import stats"
   ]
  },
  {
   "cell_type": "markdown",
   "id": "7f8e6cab",
   "metadata": {},
   "source": [
    "2. (i) Data Load and Understanding"
   ]
  },
  {
   "cell_type": "code",
   "execution_count": 2,
   "id": "8e4fabfe",
   "metadata": {
    "scrolled": true
   },
   "outputs": [
    {
     "name": "stderr",
     "output_type": "stream",
     "text": [
      "C:\\Users\\lxk200008\\Anaconda3\\lib\\site-packages\\IPython\\core\\interactiveshell.py:3165: DtypeWarning: Columns (11) have mixed types.Specify dtype option on import or set low_memory=False.\n",
      "  has_raised = await self.run_ast_nodes(code_ast.body, cell_name,\n"
     ]
    },
    {
     "data": {
      "text/html": [
       "<div>\n",
       "<style scoped>\n",
       "    .dataframe tbody tr th:only-of-type {\n",
       "        vertical-align: middle;\n",
       "    }\n",
       "\n",
       "    .dataframe tbody tr th {\n",
       "        vertical-align: top;\n",
       "    }\n",
       "\n",
       "    .dataframe thead th {\n",
       "        text-align: right;\n",
       "    }\n",
       "</style>\n",
       "<table border=\"1\" class=\"dataframe\">\n",
       "  <thead>\n",
       "    <tr style=\"text-align: right;\">\n",
       "      <th></th>\n",
       "      <th>vin</th>\n",
       "      <th>back_legroom</th>\n",
       "      <th>bed</th>\n",
       "      <th>bed_height</th>\n",
       "      <th>bed_length</th>\n",
       "      <th>body_type</th>\n",
       "      <th>cabin</th>\n",
       "      <th>city</th>\n",
       "      <th>city_fuel_economy</th>\n",
       "      <th>combine_fuel_economy</th>\n",
       "      <th>...</th>\n",
       "      <th>transmission</th>\n",
       "      <th>transmission_display</th>\n",
       "      <th>trimId</th>\n",
       "      <th>trim_name</th>\n",
       "      <th>vehicle_damage_category</th>\n",
       "      <th>wheel_system</th>\n",
       "      <th>wheel_system_display</th>\n",
       "      <th>wheelbase</th>\n",
       "      <th>width</th>\n",
       "      <th>year</th>\n",
       "    </tr>\n",
       "  </thead>\n",
       "  <tbody>\n",
       "    <tr>\n",
       "      <th>0</th>\n",
       "      <td>ZACNJABB5KPJ92081</td>\n",
       "      <td>35.1 in</td>\n",
       "      <td>NaN</td>\n",
       "      <td>NaN</td>\n",
       "      <td>NaN</td>\n",
       "      <td>SUV / Crossover</td>\n",
       "      <td>NaN</td>\n",
       "      <td>Bayamon</td>\n",
       "      <td>NaN</td>\n",
       "      <td>NaN</td>\n",
       "      <td>...</td>\n",
       "      <td>A</td>\n",
       "      <td>9-Speed Automatic Overdrive</td>\n",
       "      <td>t83804</td>\n",
       "      <td>Latitude FWD</td>\n",
       "      <td>NaN</td>\n",
       "      <td>FWD</td>\n",
       "      <td>Front-Wheel Drive</td>\n",
       "      <td>101.2 in</td>\n",
       "      <td>79.6 in</td>\n",
       "      <td>2019</td>\n",
       "    </tr>\n",
       "    <tr>\n",
       "      <th>1</th>\n",
       "      <td>SALCJ2FX1LH858117</td>\n",
       "      <td>38.1 in</td>\n",
       "      <td>NaN</td>\n",
       "      <td>NaN</td>\n",
       "      <td>NaN</td>\n",
       "      <td>SUV / Crossover</td>\n",
       "      <td>NaN</td>\n",
       "      <td>San Juan</td>\n",
       "      <td>NaN</td>\n",
       "      <td>NaN</td>\n",
       "      <td>...</td>\n",
       "      <td>A</td>\n",
       "      <td>9-Speed Automatic Overdrive</td>\n",
       "      <td>t86759</td>\n",
       "      <td>S AWD</td>\n",
       "      <td>NaN</td>\n",
       "      <td>AWD</td>\n",
       "      <td>All-Wheel Drive</td>\n",
       "      <td>107.9 in</td>\n",
       "      <td>85.6 in</td>\n",
       "      <td>2020</td>\n",
       "    </tr>\n",
       "    <tr>\n",
       "      <th>2</th>\n",
       "      <td>JF1VA2M67G9829723</td>\n",
       "      <td>35.4 in</td>\n",
       "      <td>NaN</td>\n",
       "      <td>NaN</td>\n",
       "      <td>NaN</td>\n",
       "      <td>Sedan</td>\n",
       "      <td>NaN</td>\n",
       "      <td>Guaynabo</td>\n",
       "      <td>17.0</td>\n",
       "      <td>NaN</td>\n",
       "      <td>...</td>\n",
       "      <td>M</td>\n",
       "      <td>6-Speed Manual</td>\n",
       "      <td>t58994</td>\n",
       "      <td>Base</td>\n",
       "      <td>NaN</td>\n",
       "      <td>AWD</td>\n",
       "      <td>All-Wheel Drive</td>\n",
       "      <td>104.3 in</td>\n",
       "      <td>78.9 in</td>\n",
       "      <td>2016</td>\n",
       "    </tr>\n",
       "    <tr>\n",
       "      <th>3</th>\n",
       "      <td>SALRR2RV0L2433391</td>\n",
       "      <td>37.6 in</td>\n",
       "      <td>NaN</td>\n",
       "      <td>NaN</td>\n",
       "      <td>NaN</td>\n",
       "      <td>SUV / Crossover</td>\n",
       "      <td>NaN</td>\n",
       "      <td>San Juan</td>\n",
       "      <td>NaN</td>\n",
       "      <td>NaN</td>\n",
       "      <td>...</td>\n",
       "      <td>A</td>\n",
       "      <td>8-Speed Automatic Overdrive</td>\n",
       "      <td>t86074</td>\n",
       "      <td>V6 HSE AWD</td>\n",
       "      <td>NaN</td>\n",
       "      <td>AWD</td>\n",
       "      <td>All-Wheel Drive</td>\n",
       "      <td>115 in</td>\n",
       "      <td>87.4 in</td>\n",
       "      <td>2020</td>\n",
       "    </tr>\n",
       "    <tr>\n",
       "      <th>4</th>\n",
       "      <td>SALCJ2FXXLH862327</td>\n",
       "      <td>38.1 in</td>\n",
       "      <td>NaN</td>\n",
       "      <td>NaN</td>\n",
       "      <td>NaN</td>\n",
       "      <td>SUV / Crossover</td>\n",
       "      <td>NaN</td>\n",
       "      <td>San Juan</td>\n",
       "      <td>NaN</td>\n",
       "      <td>NaN</td>\n",
       "      <td>...</td>\n",
       "      <td>A</td>\n",
       "      <td>9-Speed Automatic Overdrive</td>\n",
       "      <td>t86759</td>\n",
       "      <td>S AWD</td>\n",
       "      <td>NaN</td>\n",
       "      <td>AWD</td>\n",
       "      <td>All-Wheel Drive</td>\n",
       "      <td>107.9 in</td>\n",
       "      <td>85.6 in</td>\n",
       "      <td>2020</td>\n",
       "    </tr>\n",
       "    <tr>\n",
       "      <th>5</th>\n",
       "      <td>SALYK2EX1LA261711</td>\n",
       "      <td>37.1 in</td>\n",
       "      <td>NaN</td>\n",
       "      <td>NaN</td>\n",
       "      <td>NaN</td>\n",
       "      <td>SUV / Crossover</td>\n",
       "      <td>NaN</td>\n",
       "      <td>San Juan</td>\n",
       "      <td>NaN</td>\n",
       "      <td>NaN</td>\n",
       "      <td>...</td>\n",
       "      <td>A</td>\n",
       "      <td>8-Speed Automatic Overdrive</td>\n",
       "      <td>t85614</td>\n",
       "      <td>P250 R-Dynamic S AWD</td>\n",
       "      <td>NaN</td>\n",
       "      <td>AWD</td>\n",
       "      <td>All-Wheel Drive</td>\n",
       "      <td>113.1 in</td>\n",
       "      <td>84.4 in</td>\n",
       "      <td>2020</td>\n",
       "    </tr>\n",
       "    <tr>\n",
       "      <th>6</th>\n",
       "      <td>3MZBPABL6KM107908</td>\n",
       "      <td>35.1 in</td>\n",
       "      <td>NaN</td>\n",
       "      <td>NaN</td>\n",
       "      <td>NaN</td>\n",
       "      <td>Sedan</td>\n",
       "      <td>NaN</td>\n",
       "      <td>Bayamon</td>\n",
       "      <td>NaN</td>\n",
       "      <td>NaN</td>\n",
       "      <td>...</td>\n",
       "      <td>A</td>\n",
       "      <td>6-Speed Automatic Overdrive</td>\n",
       "      <td>t85256</td>\n",
       "      <td>Sedan FWD</td>\n",
       "      <td>NaN</td>\n",
       "      <td>FWD</td>\n",
       "      <td>Front-Wheel Drive</td>\n",
       "      <td>107.3 in</td>\n",
       "      <td>70.7 in</td>\n",
       "      <td>2019</td>\n",
       "    </tr>\n",
       "    <tr>\n",
       "      <th>7</th>\n",
       "      <td>SALYK2EX5LA275434</td>\n",
       "      <td>37.1 in</td>\n",
       "      <td>NaN</td>\n",
       "      <td>NaN</td>\n",
       "      <td>NaN</td>\n",
       "      <td>SUV / Crossover</td>\n",
       "      <td>NaN</td>\n",
       "      <td>San Juan</td>\n",
       "      <td>NaN</td>\n",
       "      <td>NaN</td>\n",
       "      <td>...</td>\n",
       "      <td>A</td>\n",
       "      <td>8-Speed Automatic Overdrive</td>\n",
       "      <td>t85614</td>\n",
       "      <td>P250 R-Dynamic S AWD</td>\n",
       "      <td>NaN</td>\n",
       "      <td>AWD</td>\n",
       "      <td>All-Wheel Drive</td>\n",
       "      <td>113.1 in</td>\n",
       "      <td>84.4 in</td>\n",
       "      <td>2020</td>\n",
       "    </tr>\n",
       "    <tr>\n",
       "      <th>8</th>\n",
       "      <td>SALCJ2FX6LH858128</td>\n",
       "      <td>38.1 in</td>\n",
       "      <td>NaN</td>\n",
       "      <td>NaN</td>\n",
       "      <td>NaN</td>\n",
       "      <td>SUV / Crossover</td>\n",
       "      <td>NaN</td>\n",
       "      <td>San Juan</td>\n",
       "      <td>NaN</td>\n",
       "      <td>NaN</td>\n",
       "      <td>...</td>\n",
       "      <td>A</td>\n",
       "      <td>9-Speed Automatic Overdrive</td>\n",
       "      <td>t86759</td>\n",
       "      <td>S AWD</td>\n",
       "      <td>NaN</td>\n",
       "      <td>AWD</td>\n",
       "      <td>All-Wheel Drive</td>\n",
       "      <td>107.9 in</td>\n",
       "      <td>85.6 in</td>\n",
       "      <td>2020</td>\n",
       "    </tr>\n",
       "    <tr>\n",
       "      <th>9</th>\n",
       "      <td>SALZL2GX4LH007593</td>\n",
       "      <td>33.8 in</td>\n",
       "      <td>NaN</td>\n",
       "      <td>NaN</td>\n",
       "      <td>NaN</td>\n",
       "      <td>SUV / Crossover</td>\n",
       "      <td>NaN</td>\n",
       "      <td>San Juan</td>\n",
       "      <td>NaN</td>\n",
       "      <td>NaN</td>\n",
       "      <td>...</td>\n",
       "      <td>A</td>\n",
       "      <td>9-Speed Automatic Overdrive</td>\n",
       "      <td>t85531</td>\n",
       "      <td>P300 R-Dynamic SE AWD</td>\n",
       "      <td>NaN</td>\n",
       "      <td>AWD</td>\n",
       "      <td>All-Wheel Drive</td>\n",
       "      <td>105.6 in</td>\n",
       "      <td>82.7 in</td>\n",
       "      <td>2020</td>\n",
       "    </tr>\n",
       "    <tr>\n",
       "      <th>10</th>\n",
       "      <td>ZARBAAC41FM129303</td>\n",
       "      <td>--</td>\n",
       "      <td>NaN</td>\n",
       "      <td>NaN</td>\n",
       "      <td>NaN</td>\n",
       "      <td>Coupe</td>\n",
       "      <td>NaN</td>\n",
       "      <td>Guaynabo</td>\n",
       "      <td>NaN</td>\n",
       "      <td>NaN</td>\n",
       "      <td>...</td>\n",
       "      <td>A</td>\n",
       "      <td>6-Speed Automatic</td>\n",
       "      <td>t56834</td>\n",
       "      <td>Launch Edition Coupe RWD</td>\n",
       "      <td>NaN</td>\n",
       "      <td>RWD</td>\n",
       "      <td>Rear-Wheel Drive</td>\n",
       "      <td>93.7 in</td>\n",
       "      <td>73.5 in</td>\n",
       "      <td>2015</td>\n",
       "    </tr>\n",
       "    <tr>\n",
       "      <th>11</th>\n",
       "      <td>SALZJ2FX0LH081763</td>\n",
       "      <td>33.8 in</td>\n",
       "      <td>NaN</td>\n",
       "      <td>NaN</td>\n",
       "      <td>NaN</td>\n",
       "      <td>SUV / Crossover</td>\n",
       "      <td>NaN</td>\n",
       "      <td>San Juan</td>\n",
       "      <td>NaN</td>\n",
       "      <td>NaN</td>\n",
       "      <td>...</td>\n",
       "      <td>A</td>\n",
       "      <td>9-Speed Automatic Overdrive</td>\n",
       "      <td>t85529</td>\n",
       "      <td>P250 S AWD</td>\n",
       "      <td>NaN</td>\n",
       "      <td>AWD</td>\n",
       "      <td>All-Wheel Drive</td>\n",
       "      <td>105.6 in</td>\n",
       "      <td>82.7 in</td>\n",
       "      <td>2020</td>\n",
       "    </tr>\n",
       "    <tr>\n",
       "      <th>12</th>\n",
       "      <td>WBA8B7C53GK368522</td>\n",
       "      <td>35.1 in</td>\n",
       "      <td>NaN</td>\n",
       "      <td>NaN</td>\n",
       "      <td>NaN</td>\n",
       "      <td>Sedan</td>\n",
       "      <td>NaN</td>\n",
       "      <td>Guaynabo</td>\n",
       "      <td>22.0</td>\n",
       "      <td>NaN</td>\n",
       "      <td>...</td>\n",
       "      <td>A</td>\n",
       "      <td>8-Speed Automatic</td>\n",
       "      <td>t58802</td>\n",
       "      <td>340i xDrive Sedan AWD</td>\n",
       "      <td>NaN</td>\n",
       "      <td>AWD</td>\n",
       "      <td>All-Wheel Drive</td>\n",
       "      <td>110.6 in</td>\n",
       "      <td>80 in</td>\n",
       "      <td>2016</td>\n",
       "    </tr>\n",
       "    <tr>\n",
       "      <th>13</th>\n",
       "      <td>SALYK2EX8LA268316</td>\n",
       "      <td>37.1 in</td>\n",
       "      <td>NaN</td>\n",
       "      <td>NaN</td>\n",
       "      <td>NaN</td>\n",
       "      <td>SUV / Crossover</td>\n",
       "      <td>NaN</td>\n",
       "      <td>San Juan</td>\n",
       "      <td>NaN</td>\n",
       "      <td>NaN</td>\n",
       "      <td>...</td>\n",
       "      <td>A</td>\n",
       "      <td>8-Speed Automatic Overdrive</td>\n",
       "      <td>t85614</td>\n",
       "      <td>P250 R-Dynamic S AWD</td>\n",
       "      <td>NaN</td>\n",
       "      <td>AWD</td>\n",
       "      <td>All-Wheel Drive</td>\n",
       "      <td>113.1 in</td>\n",
       "      <td>84.4 in</td>\n",
       "      <td>2020</td>\n",
       "    </tr>\n",
       "    <tr>\n",
       "      <th>14</th>\n",
       "      <td>3MZBPABL1KM108237</td>\n",
       "      <td>35.1 in</td>\n",
       "      <td>NaN</td>\n",
       "      <td>NaN</td>\n",
       "      <td>NaN</td>\n",
       "      <td>Sedan</td>\n",
       "      <td>NaN</td>\n",
       "      <td>Bayamon</td>\n",
       "      <td>NaN</td>\n",
       "      <td>NaN</td>\n",
       "      <td>...</td>\n",
       "      <td>A</td>\n",
       "      <td>6-Speed Automatic Overdrive</td>\n",
       "      <td>t85256</td>\n",
       "      <td>Sedan FWD</td>\n",
       "      <td>NaN</td>\n",
       "      <td>FWD</td>\n",
       "      <td>Front-Wheel Drive</td>\n",
       "      <td>107.3 in</td>\n",
       "      <td>70.7 in</td>\n",
       "      <td>2019</td>\n",
       "    </tr>\n",
       "    <tr>\n",
       "      <th>15</th>\n",
       "      <td>3MZBPABL4KM107969</td>\n",
       "      <td>35.1 in</td>\n",
       "      <td>NaN</td>\n",
       "      <td>NaN</td>\n",
       "      <td>NaN</td>\n",
       "      <td>Sedan</td>\n",
       "      <td>NaN</td>\n",
       "      <td>Bayamon</td>\n",
       "      <td>NaN</td>\n",
       "      <td>NaN</td>\n",
       "      <td>...</td>\n",
       "      <td>A</td>\n",
       "      <td>6-Speed Automatic Overdrive</td>\n",
       "      <td>t85256</td>\n",
       "      <td>Sedan FWD</td>\n",
       "      <td>NaN</td>\n",
       "      <td>FWD</td>\n",
       "      <td>Front-Wheel Drive</td>\n",
       "      <td>107.3 in</td>\n",
       "      <td>70.7 in</td>\n",
       "      <td>2019</td>\n",
       "    </tr>\n",
       "    <tr>\n",
       "      <th>16</th>\n",
       "      <td>SALCP2FX9LH857747</td>\n",
       "      <td>38.1 in</td>\n",
       "      <td>NaN</td>\n",
       "      <td>NaN</td>\n",
       "      <td>NaN</td>\n",
       "      <td>SUV / Crossover</td>\n",
       "      <td>NaN</td>\n",
       "      <td>San Juan</td>\n",
       "      <td>NaN</td>\n",
       "      <td>NaN</td>\n",
       "      <td>...</td>\n",
       "      <td>A</td>\n",
       "      <td>9-Speed Automatic Overdrive</td>\n",
       "      <td>t86761</td>\n",
       "      <td>SE AWD</td>\n",
       "      <td>NaN</td>\n",
       "      <td>AWD</td>\n",
       "      <td>All-Wheel Drive</td>\n",
       "      <td>107.9 in</td>\n",
       "      <td>85.6 in</td>\n",
       "      <td>2020</td>\n",
       "    </tr>\n",
       "    <tr>\n",
       "      <th>17</th>\n",
       "      <td>SALYK2EX8LA284533</td>\n",
       "      <td>37.1 in</td>\n",
       "      <td>NaN</td>\n",
       "      <td>NaN</td>\n",
       "      <td>NaN</td>\n",
       "      <td>SUV / Crossover</td>\n",
       "      <td>NaN</td>\n",
       "      <td>San Juan</td>\n",
       "      <td>NaN</td>\n",
       "      <td>NaN</td>\n",
       "      <td>...</td>\n",
       "      <td>A</td>\n",
       "      <td>8-Speed Automatic Overdrive</td>\n",
       "      <td>t85614</td>\n",
       "      <td>P250 R-Dynamic S AWD</td>\n",
       "      <td>NaN</td>\n",
       "      <td>AWD</td>\n",
       "      <td>All-Wheel Drive</td>\n",
       "      <td>113.1 in</td>\n",
       "      <td>84.4 in</td>\n",
       "      <td>2020</td>\n",
       "    </tr>\n",
       "    <tr>\n",
       "      <th>18</th>\n",
       "      <td>SALYK2EX0LA284669</td>\n",
       "      <td>37.1 in</td>\n",
       "      <td>NaN</td>\n",
       "      <td>NaN</td>\n",
       "      <td>NaN</td>\n",
       "      <td>SUV / Crossover</td>\n",
       "      <td>NaN</td>\n",
       "      <td>San Juan</td>\n",
       "      <td>NaN</td>\n",
       "      <td>NaN</td>\n",
       "      <td>...</td>\n",
       "      <td>A</td>\n",
       "      <td>8-Speed Automatic Overdrive</td>\n",
       "      <td>t85614</td>\n",
       "      <td>P250 R-Dynamic S AWD</td>\n",
       "      <td>NaN</td>\n",
       "      <td>AWD</td>\n",
       "      <td>All-Wheel Drive</td>\n",
       "      <td>113.1 in</td>\n",
       "      <td>84.4 in</td>\n",
       "      <td>2020</td>\n",
       "    </tr>\n",
       "    <tr>\n",
       "      <th>19</th>\n",
       "      <td>SALCP2FX8LH854709</td>\n",
       "      <td>38.1 in</td>\n",
       "      <td>NaN</td>\n",
       "      <td>NaN</td>\n",
       "      <td>NaN</td>\n",
       "      <td>SUV / Crossover</td>\n",
       "      <td>NaN</td>\n",
       "      <td>San Juan</td>\n",
       "      <td>NaN</td>\n",
       "      <td>NaN</td>\n",
       "      <td>...</td>\n",
       "      <td>A</td>\n",
       "      <td>9-Speed Automatic Overdrive</td>\n",
       "      <td>t86761</td>\n",
       "      <td>SE AWD</td>\n",
       "      <td>NaN</td>\n",
       "      <td>AWD</td>\n",
       "      <td>All-Wheel Drive</td>\n",
       "      <td>107.9 in</td>\n",
       "      <td>85.6 in</td>\n",
       "      <td>2020</td>\n",
       "    </tr>\n",
       "    <tr>\n",
       "      <th>20</th>\n",
       "      <td>3MZBPABL9KM105215</td>\n",
       "      <td>35.1 in</td>\n",
       "      <td>NaN</td>\n",
       "      <td>NaN</td>\n",
       "      <td>NaN</td>\n",
       "      <td>Sedan</td>\n",
       "      <td>NaN</td>\n",
       "      <td>Bayamon</td>\n",
       "      <td>NaN</td>\n",
       "      <td>NaN</td>\n",
       "      <td>...</td>\n",
       "      <td>A</td>\n",
       "      <td>6-Speed Automatic Overdrive</td>\n",
       "      <td>t85256</td>\n",
       "      <td>Sedan FWD</td>\n",
       "      <td>NaN</td>\n",
       "      <td>FWD</td>\n",
       "      <td>Front-Wheel Drive</td>\n",
       "      <td>107.3 in</td>\n",
       "      <td>70.7 in</td>\n",
       "      <td>2019</td>\n",
       "    </tr>\n",
       "    <tr>\n",
       "      <th>21</th>\n",
       "      <td>3MZBPABL3KM107929</td>\n",
       "      <td>35.1 in</td>\n",
       "      <td>NaN</td>\n",
       "      <td>NaN</td>\n",
       "      <td>NaN</td>\n",
       "      <td>Sedan</td>\n",
       "      <td>NaN</td>\n",
       "      <td>Bayamon</td>\n",
       "      <td>NaN</td>\n",
       "      <td>NaN</td>\n",
       "      <td>...</td>\n",
       "      <td>A</td>\n",
       "      <td>6-Speed Automatic Overdrive</td>\n",
       "      <td>t85256</td>\n",
       "      <td>Sedan FWD</td>\n",
       "      <td>NaN</td>\n",
       "      <td>FWD</td>\n",
       "      <td>Front-Wheel Drive</td>\n",
       "      <td>107.3 in</td>\n",
       "      <td>70.7 in</td>\n",
       "      <td>2019</td>\n",
       "    </tr>\n",
       "    <tr>\n",
       "      <th>22</th>\n",
       "      <td>SALCP2FX9LH864505</td>\n",
       "      <td>38.1 in</td>\n",
       "      <td>NaN</td>\n",
       "      <td>NaN</td>\n",
       "      <td>NaN</td>\n",
       "      <td>SUV / Crossover</td>\n",
       "      <td>NaN</td>\n",
       "      <td>San Juan</td>\n",
       "      <td>NaN</td>\n",
       "      <td>NaN</td>\n",
       "      <td>...</td>\n",
       "      <td>A</td>\n",
       "      <td>9-Speed Automatic Overdrive</td>\n",
       "      <td>t86761</td>\n",
       "      <td>SE AWD</td>\n",
       "      <td>NaN</td>\n",
       "      <td>AWD</td>\n",
       "      <td>All-Wheel Drive</td>\n",
       "      <td>107.9 in</td>\n",
       "      <td>85.6 in</td>\n",
       "      <td>2020</td>\n",
       "    </tr>\n",
       "    <tr>\n",
       "      <th>23</th>\n",
       "      <td>SALCP2FX1LH840358</td>\n",
       "      <td>38.1 in</td>\n",
       "      <td>NaN</td>\n",
       "      <td>NaN</td>\n",
       "      <td>NaN</td>\n",
       "      <td>SUV / Crossover</td>\n",
       "      <td>NaN</td>\n",
       "      <td>San Juan</td>\n",
       "      <td>NaN</td>\n",
       "      <td>NaN</td>\n",
       "      <td>...</td>\n",
       "      <td>A</td>\n",
       "      <td>9-Speed Automatic Overdrive</td>\n",
       "      <td>t86761</td>\n",
       "      <td>SE AWD</td>\n",
       "      <td>NaN</td>\n",
       "      <td>AWD</td>\n",
       "      <td>All-Wheel Drive</td>\n",
       "      <td>107.9 in</td>\n",
       "      <td>85.6 in</td>\n",
       "      <td>2020</td>\n",
       "    </tr>\n",
       "    <tr>\n",
       "      <th>24</th>\n",
       "      <td>SALRR2RV1L2433156</td>\n",
       "      <td>37.6 in</td>\n",
       "      <td>NaN</td>\n",
       "      <td>NaN</td>\n",
       "      <td>NaN</td>\n",
       "      <td>SUV / Crossover</td>\n",
       "      <td>NaN</td>\n",
       "      <td>San Juan</td>\n",
       "      <td>NaN</td>\n",
       "      <td>NaN</td>\n",
       "      <td>...</td>\n",
       "      <td>A</td>\n",
       "      <td>8-Speed Automatic Overdrive</td>\n",
       "      <td>t86074</td>\n",
       "      <td>V6 HSE AWD</td>\n",
       "      <td>NaN</td>\n",
       "      <td>AWD</td>\n",
       "      <td>All-Wheel Drive</td>\n",
       "      <td>115 in</td>\n",
       "      <td>87.4 in</td>\n",
       "      <td>2020</td>\n",
       "    </tr>\n",
       "    <tr>\n",
       "      <th>25</th>\n",
       "      <td>SALCP2FX2LH870341</td>\n",
       "      <td>38.1 in</td>\n",
       "      <td>NaN</td>\n",
       "      <td>NaN</td>\n",
       "      <td>NaN</td>\n",
       "      <td>SUV / Crossover</td>\n",
       "      <td>NaN</td>\n",
       "      <td>San Juan</td>\n",
       "      <td>NaN</td>\n",
       "      <td>NaN</td>\n",
       "      <td>...</td>\n",
       "      <td>A</td>\n",
       "      <td>9-Speed Automatic Overdrive</td>\n",
       "      <td>t86761</td>\n",
       "      <td>SE AWD</td>\n",
       "      <td>NaN</td>\n",
       "      <td>AWD</td>\n",
       "      <td>All-Wheel Drive</td>\n",
       "      <td>107.9 in</td>\n",
       "      <td>85.6 in</td>\n",
       "      <td>2020</td>\n",
       "    </tr>\n",
       "    <tr>\n",
       "      <th>26</th>\n",
       "      <td>JM1DKDB75K0423950</td>\n",
       "      <td>35 in</td>\n",
       "      <td>NaN</td>\n",
       "      <td>NaN</td>\n",
       "      <td>NaN</td>\n",
       "      <td>SUV / Crossover</td>\n",
       "      <td>NaN</td>\n",
       "      <td>Bayamon</td>\n",
       "      <td>NaN</td>\n",
       "      <td>NaN</td>\n",
       "      <td>...</td>\n",
       "      <td>A</td>\n",
       "      <td>6-Speed Automatic Overdrive</td>\n",
       "      <td>t80228</td>\n",
       "      <td>Sport FWD</td>\n",
       "      <td>NaN</td>\n",
       "      <td>FWD</td>\n",
       "      <td>Front-Wheel Drive</td>\n",
       "      <td>101.2 in</td>\n",
       "      <td>69.6 in</td>\n",
       "      <td>2019</td>\n",
       "    </tr>\n",
       "    <tr>\n",
       "      <th>27</th>\n",
       "      <td>ZACNJBBB5KPJ76839</td>\n",
       "      <td>35.1 in</td>\n",
       "      <td>NaN</td>\n",
       "      <td>NaN</td>\n",
       "      <td>NaN</td>\n",
       "      <td>SUV / Crossover</td>\n",
       "      <td>NaN</td>\n",
       "      <td>Bayamon</td>\n",
       "      <td>NaN</td>\n",
       "      <td>NaN</td>\n",
       "      <td>...</td>\n",
       "      <td>A</td>\n",
       "      <td>9-Speed Automatic Overdrive</td>\n",
       "      <td>t83803</td>\n",
       "      <td>Latitude 4WD</td>\n",
       "      <td>NaN</td>\n",
       "      <td>4WD</td>\n",
       "      <td>Four-Wheel Drive</td>\n",
       "      <td>101.2 in</td>\n",
       "      <td>79.6 in</td>\n",
       "      <td>2019</td>\n",
       "    </tr>\n",
       "    <tr>\n",
       "      <th>28</th>\n",
       "      <td>SALCP2FX7LH864941</td>\n",
       "      <td>38.1 in</td>\n",
       "      <td>NaN</td>\n",
       "      <td>NaN</td>\n",
       "      <td>NaN</td>\n",
       "      <td>SUV / Crossover</td>\n",
       "      <td>NaN</td>\n",
       "      <td>San Juan</td>\n",
       "      <td>NaN</td>\n",
       "      <td>NaN</td>\n",
       "      <td>...</td>\n",
       "      <td>A</td>\n",
       "      <td>9-Speed Automatic Overdrive</td>\n",
       "      <td>t86761</td>\n",
       "      <td>SE AWD</td>\n",
       "      <td>NaN</td>\n",
       "      <td>AWD</td>\n",
       "      <td>All-Wheel Drive</td>\n",
       "      <td>107.9 in</td>\n",
       "      <td>85.6 in</td>\n",
       "      <td>2020</td>\n",
       "    </tr>\n",
       "    <tr>\n",
       "      <th>29</th>\n",
       "      <td>SALRG2RK9L2433143</td>\n",
       "      <td>37.6 in</td>\n",
       "      <td>NaN</td>\n",
       "      <td>NaN</td>\n",
       "      <td>NaN</td>\n",
       "      <td>SUV / Crossover</td>\n",
       "      <td>NaN</td>\n",
       "      <td>San Juan</td>\n",
       "      <td>NaN</td>\n",
       "      <td>NaN</td>\n",
       "      <td>...</td>\n",
       "      <td>A</td>\n",
       "      <td>8-Speed Automatic Overdrive</td>\n",
       "      <td>t86075</td>\n",
       "      <td>Td6 SE AWD</td>\n",
       "      <td>NaN</td>\n",
       "      <td>AWD</td>\n",
       "      <td>All-Wheel Drive</td>\n",
       "      <td>115 in</td>\n",
       "      <td>87.4 in</td>\n",
       "      <td>2020</td>\n",
       "    </tr>\n",
       "  </tbody>\n",
       "</table>\n",
       "<p>30 rows × 66 columns</p>\n",
       "</div>"
      ],
      "text/plain": [
       "                  vin back_legroom  bed bed_height bed_length  \\\n",
       "0   ZACNJABB5KPJ92081      35.1 in  NaN        NaN        NaN   \n",
       "1   SALCJ2FX1LH858117      38.1 in  NaN        NaN        NaN   \n",
       "2   JF1VA2M67G9829723      35.4 in  NaN        NaN        NaN   \n",
       "3   SALRR2RV0L2433391      37.6 in  NaN        NaN        NaN   \n",
       "4   SALCJ2FXXLH862327      38.1 in  NaN        NaN        NaN   \n",
       "5   SALYK2EX1LA261711      37.1 in  NaN        NaN        NaN   \n",
       "6   3MZBPABL6KM107908      35.1 in  NaN        NaN        NaN   \n",
       "7   SALYK2EX5LA275434      37.1 in  NaN        NaN        NaN   \n",
       "8   SALCJ2FX6LH858128      38.1 in  NaN        NaN        NaN   \n",
       "9   SALZL2GX4LH007593      33.8 in  NaN        NaN        NaN   \n",
       "10  ZARBAAC41FM129303           --  NaN        NaN        NaN   \n",
       "11  SALZJ2FX0LH081763      33.8 in  NaN        NaN        NaN   \n",
       "12  WBA8B7C53GK368522      35.1 in  NaN        NaN        NaN   \n",
       "13  SALYK2EX8LA268316      37.1 in  NaN        NaN        NaN   \n",
       "14  3MZBPABL1KM108237      35.1 in  NaN        NaN        NaN   \n",
       "15  3MZBPABL4KM107969      35.1 in  NaN        NaN        NaN   \n",
       "16  SALCP2FX9LH857747      38.1 in  NaN        NaN        NaN   \n",
       "17  SALYK2EX8LA284533      37.1 in  NaN        NaN        NaN   \n",
       "18  SALYK2EX0LA284669      37.1 in  NaN        NaN        NaN   \n",
       "19  SALCP2FX8LH854709      38.1 in  NaN        NaN        NaN   \n",
       "20  3MZBPABL9KM105215      35.1 in  NaN        NaN        NaN   \n",
       "21  3MZBPABL3KM107929      35.1 in  NaN        NaN        NaN   \n",
       "22  SALCP2FX9LH864505      38.1 in  NaN        NaN        NaN   \n",
       "23  SALCP2FX1LH840358      38.1 in  NaN        NaN        NaN   \n",
       "24  SALRR2RV1L2433156      37.6 in  NaN        NaN        NaN   \n",
       "25  SALCP2FX2LH870341      38.1 in  NaN        NaN        NaN   \n",
       "26  JM1DKDB75K0423950        35 in  NaN        NaN        NaN   \n",
       "27  ZACNJBBB5KPJ76839      35.1 in  NaN        NaN        NaN   \n",
       "28  SALCP2FX7LH864941      38.1 in  NaN        NaN        NaN   \n",
       "29  SALRG2RK9L2433143      37.6 in  NaN        NaN        NaN   \n",
       "\n",
       "          body_type cabin      city  city_fuel_economy  combine_fuel_economy  \\\n",
       "0   SUV / Crossover   NaN   Bayamon                NaN                   NaN   \n",
       "1   SUV / Crossover   NaN  San Juan                NaN                   NaN   \n",
       "2             Sedan   NaN  Guaynabo               17.0                   NaN   \n",
       "3   SUV / Crossover   NaN  San Juan                NaN                   NaN   \n",
       "4   SUV / Crossover   NaN  San Juan                NaN                   NaN   \n",
       "5   SUV / Crossover   NaN  San Juan                NaN                   NaN   \n",
       "6             Sedan   NaN   Bayamon                NaN                   NaN   \n",
       "7   SUV / Crossover   NaN  San Juan                NaN                   NaN   \n",
       "8   SUV / Crossover   NaN  San Juan                NaN                   NaN   \n",
       "9   SUV / Crossover   NaN  San Juan                NaN                   NaN   \n",
       "10            Coupe   NaN  Guaynabo                NaN                   NaN   \n",
       "11  SUV / Crossover   NaN  San Juan                NaN                   NaN   \n",
       "12            Sedan   NaN  Guaynabo               22.0                   NaN   \n",
       "13  SUV / Crossover   NaN  San Juan                NaN                   NaN   \n",
       "14            Sedan   NaN   Bayamon                NaN                   NaN   \n",
       "15            Sedan   NaN   Bayamon                NaN                   NaN   \n",
       "16  SUV / Crossover   NaN  San Juan                NaN                   NaN   \n",
       "17  SUV / Crossover   NaN  San Juan                NaN                   NaN   \n",
       "18  SUV / Crossover   NaN  San Juan                NaN                   NaN   \n",
       "19  SUV / Crossover   NaN  San Juan                NaN                   NaN   \n",
       "20            Sedan   NaN   Bayamon                NaN                   NaN   \n",
       "21            Sedan   NaN   Bayamon                NaN                   NaN   \n",
       "22  SUV / Crossover   NaN  San Juan                NaN                   NaN   \n",
       "23  SUV / Crossover   NaN  San Juan                NaN                   NaN   \n",
       "24  SUV / Crossover   NaN  San Juan                NaN                   NaN   \n",
       "25  SUV / Crossover   NaN  San Juan                NaN                   NaN   \n",
       "26  SUV / Crossover   NaN   Bayamon                NaN                   NaN   \n",
       "27  SUV / Crossover   NaN   Bayamon                NaN                   NaN   \n",
       "28  SUV / Crossover   NaN  San Juan                NaN                   NaN   \n",
       "29  SUV / Crossover   NaN  San Juan                NaN                   NaN   \n",
       "\n",
       "    ...  transmission         transmission_display  trimId  \\\n",
       "0   ...             A  9-Speed Automatic Overdrive  t83804   \n",
       "1   ...             A  9-Speed Automatic Overdrive  t86759   \n",
       "2   ...             M               6-Speed Manual  t58994   \n",
       "3   ...             A  8-Speed Automatic Overdrive  t86074   \n",
       "4   ...             A  9-Speed Automatic Overdrive  t86759   \n",
       "5   ...             A  8-Speed Automatic Overdrive  t85614   \n",
       "6   ...             A  6-Speed Automatic Overdrive  t85256   \n",
       "7   ...             A  8-Speed Automatic Overdrive  t85614   \n",
       "8   ...             A  9-Speed Automatic Overdrive  t86759   \n",
       "9   ...             A  9-Speed Automatic Overdrive  t85531   \n",
       "10  ...             A            6-Speed Automatic  t56834   \n",
       "11  ...             A  9-Speed Automatic Overdrive  t85529   \n",
       "12  ...             A            8-Speed Automatic  t58802   \n",
       "13  ...             A  8-Speed Automatic Overdrive  t85614   \n",
       "14  ...             A  6-Speed Automatic Overdrive  t85256   \n",
       "15  ...             A  6-Speed Automatic Overdrive  t85256   \n",
       "16  ...             A  9-Speed Automatic Overdrive  t86761   \n",
       "17  ...             A  8-Speed Automatic Overdrive  t85614   \n",
       "18  ...             A  8-Speed Automatic Overdrive  t85614   \n",
       "19  ...             A  9-Speed Automatic Overdrive  t86761   \n",
       "20  ...             A  6-Speed Automatic Overdrive  t85256   \n",
       "21  ...             A  6-Speed Automatic Overdrive  t85256   \n",
       "22  ...             A  9-Speed Automatic Overdrive  t86761   \n",
       "23  ...             A  9-Speed Automatic Overdrive  t86761   \n",
       "24  ...             A  8-Speed Automatic Overdrive  t86074   \n",
       "25  ...             A  9-Speed Automatic Overdrive  t86761   \n",
       "26  ...             A  6-Speed Automatic Overdrive  t80228   \n",
       "27  ...             A  9-Speed Automatic Overdrive  t83803   \n",
       "28  ...             A  9-Speed Automatic Overdrive  t86761   \n",
       "29  ...             A  8-Speed Automatic Overdrive  t86075   \n",
       "\n",
       "                   trim_name  vehicle_damage_category wheel_system  \\\n",
       "0               Latitude FWD                      NaN          FWD   \n",
       "1                      S AWD                      NaN          AWD   \n",
       "2                       Base                      NaN          AWD   \n",
       "3                 V6 HSE AWD                      NaN          AWD   \n",
       "4                      S AWD                      NaN          AWD   \n",
       "5       P250 R-Dynamic S AWD                      NaN          AWD   \n",
       "6                  Sedan FWD                      NaN          FWD   \n",
       "7       P250 R-Dynamic S AWD                      NaN          AWD   \n",
       "8                      S AWD                      NaN          AWD   \n",
       "9      P300 R-Dynamic SE AWD                      NaN          AWD   \n",
       "10  Launch Edition Coupe RWD                      NaN          RWD   \n",
       "11                P250 S AWD                      NaN          AWD   \n",
       "12     340i xDrive Sedan AWD                      NaN          AWD   \n",
       "13      P250 R-Dynamic S AWD                      NaN          AWD   \n",
       "14                 Sedan FWD                      NaN          FWD   \n",
       "15                 Sedan FWD                      NaN          FWD   \n",
       "16                    SE AWD                      NaN          AWD   \n",
       "17      P250 R-Dynamic S AWD                      NaN          AWD   \n",
       "18      P250 R-Dynamic S AWD                      NaN          AWD   \n",
       "19                    SE AWD                      NaN          AWD   \n",
       "20                 Sedan FWD                      NaN          FWD   \n",
       "21                 Sedan FWD                      NaN          FWD   \n",
       "22                    SE AWD                      NaN          AWD   \n",
       "23                    SE AWD                      NaN          AWD   \n",
       "24                V6 HSE AWD                      NaN          AWD   \n",
       "25                    SE AWD                      NaN          AWD   \n",
       "26                 Sport FWD                      NaN          FWD   \n",
       "27              Latitude 4WD                      NaN          4WD   \n",
       "28                    SE AWD                      NaN          AWD   \n",
       "29                Td6 SE AWD                      NaN          AWD   \n",
       "\n",
       "   wheel_system_display wheelbase    width  year  \n",
       "0     Front-Wheel Drive  101.2 in  79.6 in  2019  \n",
       "1       All-Wheel Drive  107.9 in  85.6 in  2020  \n",
       "2       All-Wheel Drive  104.3 in  78.9 in  2016  \n",
       "3       All-Wheel Drive    115 in  87.4 in  2020  \n",
       "4       All-Wheel Drive  107.9 in  85.6 in  2020  \n",
       "5       All-Wheel Drive  113.1 in  84.4 in  2020  \n",
       "6     Front-Wheel Drive  107.3 in  70.7 in  2019  \n",
       "7       All-Wheel Drive  113.1 in  84.4 in  2020  \n",
       "8       All-Wheel Drive  107.9 in  85.6 in  2020  \n",
       "9       All-Wheel Drive  105.6 in  82.7 in  2020  \n",
       "10     Rear-Wheel Drive   93.7 in  73.5 in  2015  \n",
       "11      All-Wheel Drive  105.6 in  82.7 in  2020  \n",
       "12      All-Wheel Drive  110.6 in    80 in  2016  \n",
       "13      All-Wheel Drive  113.1 in  84.4 in  2020  \n",
       "14    Front-Wheel Drive  107.3 in  70.7 in  2019  \n",
       "15    Front-Wheel Drive  107.3 in  70.7 in  2019  \n",
       "16      All-Wheel Drive  107.9 in  85.6 in  2020  \n",
       "17      All-Wheel Drive  113.1 in  84.4 in  2020  \n",
       "18      All-Wheel Drive  113.1 in  84.4 in  2020  \n",
       "19      All-Wheel Drive  107.9 in  85.6 in  2020  \n",
       "20    Front-Wheel Drive  107.3 in  70.7 in  2019  \n",
       "21    Front-Wheel Drive  107.3 in  70.7 in  2019  \n",
       "22      All-Wheel Drive  107.9 in  85.6 in  2020  \n",
       "23      All-Wheel Drive  107.9 in  85.6 in  2020  \n",
       "24      All-Wheel Drive    115 in  87.4 in  2020  \n",
       "25      All-Wheel Drive  107.9 in  85.6 in  2020  \n",
       "26    Front-Wheel Drive  101.2 in  69.6 in  2019  \n",
       "27     Four-Wheel Drive  101.2 in  79.6 in  2019  \n",
       "28      All-Wheel Drive  107.9 in  85.6 in  2020  \n",
       "29      All-Wheel Drive    115 in  87.4 in  2020  \n",
       "\n",
       "[30 rows x 66 columns]"
      ]
     },
     "execution_count": 2,
     "metadata": {},
     "output_type": "execute_result"
    }
   ],
   "source": [
    "#Data for Regression is read into a dataframe and displayed first 30 records \n",
    "df2 = pd.read_csv('used_cars_data.csv')\n",
    "df2.head(30)"
   ]
  },
  {
   "cell_type": "markdown",
   "id": "b5a0c97c",
   "metadata": {},
   "source": [
    "Dataset contains approximately 1 million records. To work on smaller size of data, split the data and consider only 0.2% of data for analysis. Used train_test split to retain the same distribution of data."
   ]
  },
  {
   "cell_type": "code",
   "execution_count": 3,
   "id": "9d0bc1d6",
   "metadata": {},
   "outputs": [
    {
     "data": {
      "text/plain": [
       "1993"
      ]
     },
     "execution_count": 3,
     "metadata": {},
     "output_type": "execute_result"
    }
   ],
   "source": [
    "#Splitting of data consider 0.2% of data\n",
    "from sklearn.model_selection import train_test_split\n",
    "df1_train, df = train_test_split(df2, test_size = 0.002,random_state = 0)\n",
    "len(df)\n",
    "#There are 1993 rows and 66 columns"
   ]
  },
  {
   "cell_type": "markdown",
   "id": "49f0a47c",
   "metadata": {},
   "source": [
    "# Data information"
   ]
  },
  {
   "cell_type": "code",
   "execution_count": 4,
   "id": "5327a8e4",
   "metadata": {
    "scrolled": true
   },
   "outputs": [
    {
     "name": "stdout",
     "output_type": "stream",
     "text": [
      "<class 'pandas.core.frame.DataFrame'>\n",
      "Int64Index: 1993 entries, 467257 to 603431\n",
      "Data columns (total 66 columns):\n",
      " #   Column                   Non-Null Count  Dtype  \n",
      "---  ------                   --------------  -----  \n",
      " 0   vin                      1993 non-null   object \n",
      " 1   back_legroom             1923 non-null   object \n",
      " 2   bed                      6 non-null      object \n",
      " 3   bed_height               253 non-null    object \n",
      " 4   bed_length               253 non-null    object \n",
      " 5   body_type                1987 non-null   object \n",
      " 6   cabin                    28 non-null     object \n",
      " 7   city                     1993 non-null   object \n",
      " 8   city_fuel_economy        1689 non-null   float64\n",
      " 9   combine_fuel_economy     0 non-null      float64\n",
      " 10  daysonmarket             1993 non-null   int64  \n",
      " 11  dealer_zip               1993 non-null   object \n",
      " 12  description              1941 non-null   object \n",
      " 13  engine_cylinders         1949 non-null   object \n",
      " 14  engine_displacement      1909 non-null   float64\n",
      " 15  engine_type              1949 non-null   object \n",
      " 16  exterior_color           1993 non-null   object \n",
      " 17  fleet                    1032 non-null   object \n",
      " 18  frame_damaged            1032 non-null   object \n",
      " 19  franchise_dealer         1993 non-null   bool   \n",
      " 20  franchise_make           1658 non-null   object \n",
      " 21  front_legroom            1923 non-null   object \n",
      " 22  fuel_tank_volume         1923 non-null   object \n",
      " 23  fuel_type                1954 non-null   object \n",
      " 24  has_accidents            1032 non-null   object \n",
      " 25  height                   1923 non-null   object \n",
      " 26  highway_fuel_economy     1689 non-null   float64\n",
      " 27  horsepower               1909 non-null   float64\n",
      " 28  interior_color           1993 non-null   object \n",
      " 29  isCab                    1032 non-null   object \n",
      " 30  is_certified             0 non-null      float64\n",
      " 31  is_cpo                   147 non-null    object \n",
      " 32  is_new                   1993 non-null   bool   \n",
      " 33  is_oemcpo                100 non-null    object \n",
      " 34  latitude                 1993 non-null   float64\n",
      " 35  length                   1923 non-null   object \n",
      " 36  listed_date              1993 non-null   object \n",
      " 37  listing_color            1993 non-null   object \n",
      " 38  listing_id               1993 non-null   int64  \n",
      " 39  longitude                1993 non-null   float64\n",
      " 40  main_picture_url         1727 non-null   object \n",
      " 41  major_options            1890 non-null   object \n",
      " 42  make_name                1993 non-null   object \n",
      " 43  maximum_seating          1923 non-null   object \n",
      " 44  mileage                  1887 non-null   float64\n",
      " 45  model_name               1993 non-null   object \n",
      " 46  owner_count              977 non-null    float64\n",
      " 47  power                    1715 non-null   object \n",
      " 48  price                    1993 non-null   float64\n",
      " 49  salvage                  1032 non-null   object \n",
      " 50  savings_amount           1993 non-null   int64  \n",
      " 51  seller_rating            1978 non-null   float64\n",
      " 52  sp_id                    1993 non-null   float64\n",
      " 53  sp_name                  1993 non-null   object \n",
      " 54  theft_title              1032 non-null   object \n",
      " 55  torque                   1680 non-null   object \n",
      " 56  transmission             1959 non-null   object \n",
      " 57  transmission_display     1959 non-null   object \n",
      " 58  trimId                   1934 non-null   object \n",
      " 59  trim_name                1933 non-null   object \n",
      " 60  vehicle_damage_category  0 non-null      float64\n",
      " 61  wheel_system             1916 non-null   object \n",
      " 62  wheel_system_display     1916 non-null   object \n",
      " 63  wheelbase                1923 non-null   object \n",
      " 64  width                    1923 non-null   object \n",
      " 65  year                     1993 non-null   int64  \n",
      "dtypes: bool(2), float64(14), int64(4), object(46)\n",
      "memory usage: 1016.0+ KB\n",
      "None\n"
     ]
    }
   ],
   "source": [
    "print(df.info())"
   ]
  },
  {
   "cell_type": "markdown",
   "id": "ad024a22",
   "metadata": {},
   "source": [
    "# Exploratory Data Analysis "
   ]
  },
  {
   "cell_type": "markdown",
   "id": "f7841087",
   "metadata": {},
   "source": [
    "From the above information, we could see the type of data\n",
    "1. String -32 columns\n",
    "2. Boolean -10 columns\n",
    "3. Decimal - 8 columns\n",
    "4. Other- 16 columns\n",
    "  We need to undertand if the data type is appropriate for each column based on data understanding and accordingly transform the   data."
   ]
  },
  {
   "cell_type": "markdown",
   "id": "69809ad7",
   "metadata": {},
   "source": [
    "Analysis on numerical variables to check which are appropriate to include in a model.\n",
    "1. Ignore analysis of variables which has 100% missing data or the entire column is blank as it has no value\n",
    "2. Latitude, Longtidue, sp_id, trim_id are numeric by data but cannot be explored or analyzed as numeric data"
   ]
  },
  {
   "cell_type": "code",
   "execution_count": 5,
   "id": "23900591",
   "metadata": {},
   "outputs": [
    {
     "data": {
      "text/html": [
       "<div>\n",
       "<style scoped>\n",
       "    .dataframe tbody tr th:only-of-type {\n",
       "        vertical-align: middle;\n",
       "    }\n",
       "\n",
       "    .dataframe tbody tr th {\n",
       "        vertical-align: top;\n",
       "    }\n",
       "\n",
       "    .dataframe thead th {\n",
       "        text-align: right;\n",
       "    }\n",
       "</style>\n",
       "<table border=\"1\" class=\"dataframe\">\n",
       "  <thead>\n",
       "    <tr style=\"text-align: right;\">\n",
       "      <th></th>\n",
       "      <th>column_name</th>\n",
       "      <th>percent_missing</th>\n",
       "    </tr>\n",
       "  </thead>\n",
       "  <tbody>\n",
       "    <tr>\n",
       "      <th>combine_fuel_economy</th>\n",
       "      <td>combine_fuel_economy</td>\n",
       "      <td>100.0</td>\n",
       "    </tr>\n",
       "    <tr>\n",
       "      <th>is_certified</th>\n",
       "      <td>is_certified</td>\n",
       "      <td>100.0</td>\n",
       "    </tr>\n",
       "    <tr>\n",
       "      <th>vehicle_damage_category</th>\n",
       "      <td>vehicle_damage_category</td>\n",
       "      <td>100.0</td>\n",
       "    </tr>\n",
       "  </tbody>\n",
       "</table>\n",
       "</div>"
      ],
      "text/plain": [
       "                                     column_name  percent_missing\n",
       "combine_fuel_economy        combine_fuel_economy            100.0\n",
       "is_certified                        is_certified            100.0\n",
       "vehicle_damage_category  vehicle_damage_category            100.0"
      ]
     },
     "execution_count": 5,
     "metadata": {},
     "output_type": "execute_result"
    }
   ],
   "source": [
    "#Missing data percentage in each column\n",
    "percent_missing=df.isnull().sum() / df.shape[0] * 100.00\n",
    "missing_value_df = pd.DataFrame({'column_name': df.columns,\n",
    "                                 'percent_missing': percent_missing})\n",
    "#Columns which has 100% missing data\n",
    "missing_value_df= missing_value_df[missing_value_df['percent_missing'] == 100]\n",
    "missing_value_df"
   ]
  },
  {
   "cell_type": "code",
   "execution_count": 6,
   "id": "7491af3e",
   "metadata": {},
   "outputs": [
    {
     "data": {
      "image/png": "[encoded data removed]",
      "text/plain": [
       "<Figure size 2160x720 with 9 Axes>"
      ]
     },
     "metadata": {
      "needs_background": "light"
     },
     "output_type": "display_data"
    }
   ],
   "source": [
    "#Exclude those columns above which has no data\n",
    "numeric = df[[\"seller_rating\",\"owner_count\",\"city_fuel_economy\", \"engine_displacement\", \"highway_fuel_economy\", \"horsepower\", \"mileage\", \"year\", \"price\"]]\n",
    "fig, axs = plt.subplots(ncols=9, nrows=1, figsize=(30, 10))\n",
    "index = 0\n",
    "axs = axs.flatten()\n",
    "for k,v in numeric.items():\n",
    "    sns.boxplot(y=k, data=numeric, ax=axs[index])\n",
    "    index += 1\n",
    "plt.tight_layout(pad=0.4, w_pad=0.5, h_pad=5.0)"
   ]
  },
  {
   "cell_type": "markdown",
   "id": "2dca5ed4",
   "metadata": {},
   "source": [
    "Interpretation of distribution of variables from above plots \n",
    "1. Seller rating is mostly around 4 to 4.6 with more outliers in the range 2.2 to 3.0\n",
    "2. Owner count is around 1 to 2 which means there are no vehicles with more than 2 owners. Except for three outliers which has 4to6 owners\n",
    "3. Mileage column has extreme values which may be for specific vehicles(outliers)\n",
    "4. Price variable some very high values\n",
    "5. Year column says most of the vehicles are manufactured around 2017 to 2021.\n",
    "All the exceptional high values for horse_power, price and engine_displacement may be for sports cars or highly expensive cars."
   ]
  },
  {
   "cell_type": "markdown",
   "id": "74915ed8",
   "metadata": {},
   "source": [
    "Correlation among numerical variables and check how all numerical variables are related to price variable"
   ]
  },
  {
   "cell_type": "code",
   "execution_count": 7,
   "id": "8e964109",
   "metadata": {},
   "outputs": [
    {
     "data": {
      "text/plain": [
       "<AxesSubplot:>"
      ]
     },
     "execution_count": 7,
     "metadata": {},
     "output_type": "execute_result"
    },
    {
     "data": {
      "image/png": "[encoded data removed]",
      "text/plain": [
       "<Figure size 2160x720 with 2 Axes>"
      ]
     },
     "metadata": {
      "needs_background": "light"
     },
     "output_type": "display_data"
    }
   ],
   "source": [
    "plt.figure(figsize=(30, 10))\n",
    "correlation = numeric.corr()\n",
    "matrix = np.triu(correlation)\n",
    "sns.heatmap(correlation,  annot=True, mask=matrix)"
   ]
  },
  {
   "cell_type": "markdown",
   "id": "2ee18b96",
   "metadata": {},
   "source": [
    "1. From the above correlation plot, we could see there is highest coorelation between price and horsepower and price and year which means price is high for vehicles with more horse power and new vehicles\n",
    "2. Other numeric variables has relevant correlation with price except seller rating and owner_count for which there is least correlation and might not add value in predicting the price.\n",
    "3. "
   ]
  },
  {
   "cell_type": "markdown",
   "id": "25db65c2",
   "metadata": {},
   "source": [
    "           Analysis of Categorical variables\n",
    "Ignore those variables which has very high percentage of missing data which will later be removed from the model\n",
    "Ignore those variables which has no meaning for the data or to estimate the price which will later be removed"
   ]
  },
  {
   "cell_type": "code",
   "execution_count": 8,
   "id": "9189c854",
   "metadata": {},
   "outputs": [
    {
     "data": {
      "text/plain": [
       "{'vin': 1993,\n",
       " 'back_legroom': 127,\n",
       " 'bed': 4,\n",
       " 'bed_height': 2,\n",
       " 'bed_length': 33,\n",
       " 'body_type': 10,\n",
       " 'cabin': 5,\n",
       " 'city': 853,\n",
       " 'dealer_zip': 1104,\n",
       " 'description': 1939,\n",
       " 'engine_cylinders': 22,\n",
       " 'engine_type': 22,\n",
       " 'exterior_color': 632,\n",
       " 'fleet': 3,\n",
       " 'frame_damaged': 3,\n",
       " 'franchise_make': 34,\n",
       " 'front_legroom': 66,\n",
       " 'fuel_tank_volume': 117,\n",
       " 'fuel_type': 8,\n",
       " 'has_accidents': 3,\n",
       " 'height': 227,\n",
       " 'interior_color': 398,\n",
       " 'isCab': 3,\n",
       " 'is_cpo': 2,\n",
       " 'is_oemcpo': 2,\n",
       " 'length': 325,\n",
       " 'listed_date': 324,\n",
       " 'listing_color': 14,\n",
       " 'main_picture_url': 1722,\n",
       " 'major_options': 1225,\n",
       " 'make_name': 41,\n",
       " 'maximum_seating': 12,\n",
       " 'model_name': 319,\n",
       " 'power': 331,\n",
       " 'salvage': 3,\n",
       " 'sp_name': 1615,\n",
       " 'theft_title': 3,\n",
       " 'torque': 324,\n",
       " 'transmission': 5,\n",
       " 'transmission_display': 22,\n",
       " 'trimId': 1309,\n",
       " 'trim_name': 629,\n",
       " 'wheel_system': 6,\n",
       " 'wheel_system_display': 6,\n",
       " 'wheelbase': 201,\n",
       " 'width': 171}"
      ]
     },
     "execution_count": 8,
     "metadata": {},
     "output_type": "execute_result"
    }
   ],
   "source": [
    "#To check which columns are read as categorical/stringfrom dataset\n",
    "{column: len(df[column].unique()) for column in df.columns if df.dtypes[column] == 'object'}"
   ]
  },
  {
   "cell_type": "markdown",
   "id": "59658153",
   "metadata": {},
   "source": [
    "1. From the above string type of variables, some should be ignored as they are not relevant/needed for estmating price which will later be dropped\n",
    "2. vin-Vehicle Identification number, Description, Listing ID, Dealer_zip, City, main picture url, sp_id,sp_name(dealer name), trimID\n",
    "3. Some other variables such as back_legroom,wheel_base,width as read but are actually numerical. They are read as string because of inches as suffix to the data.\n",
    "4. One of the variable out of wheel system display and Wheel_system can be later dropped as both has same data(one with abbreviation and other with full form)\n",
    "5. One of the variable out of transmission display and transmission can be later dropped as both has same data(one with abbreviation and other with full form)"
   ]
  },
  {
   "cell_type": "code",
   "execution_count": 9,
   "id": "81218f8b",
   "metadata": {},
   "outputs": [
    {
     "name": "stderr",
     "output_type": "stream",
     "text": [
      "C:\\Users\\lxk200008\\Anaconda3\\lib\\site-packages\\seaborn\\_decorators.py:36: FutureWarning: Pass the following variable as a keyword arg: x. From version 0.12, the only valid positional argument will be `data`, and passing other arguments without an explicit keyword will result in an error or misinterpretation.\n",
      "  warnings.warn(\n",
      "C:\\Users\\lxk200008\\Anaconda3\\lib\\site-packages\\seaborn\\_decorators.py:36: FutureWarning: Pass the following variable as a keyword arg: x. From version 0.12, the only valid positional argument will be `data`, and passing other arguments without an explicit keyword will result in an error or misinterpretation.\n",
      "  warnings.warn(\n",
      "C:\\Users\\lxk200008\\Anaconda3\\lib\\site-packages\\seaborn\\_decorators.py:36: FutureWarning: Pass the following variable as a keyword arg: x. From version 0.12, the only valid positional argument will be `data`, and passing other arguments without an explicit keyword will result in an error or misinterpretation.\n",
      "  warnings.warn(\n",
      "C:\\Users\\lxk200008\\Anaconda3\\lib\\site-packages\\seaborn\\_decorators.py:36: FutureWarning: Pass the following variable as a keyword arg: x. From version 0.12, the only valid positional argument will be `data`, and passing other arguments without an explicit keyword will result in an error or misinterpretation.\n",
      "  warnings.warn(\n",
      "C:\\Users\\lxk200008\\Anaconda3\\lib\\site-packages\\seaborn\\_decorators.py:36: FutureWarning: Pass the following variable as a keyword arg: x. From version 0.12, the only valid positional argument will be `data`, and passing other arguments without an explicit keyword will result in an error or misinterpretation.\n",
      "  warnings.warn(\n",
      "C:\\Users\\lxk200008\\Anaconda3\\lib\\site-packages\\seaborn\\_decorators.py:36: FutureWarning: Pass the following variable as a keyword arg: x. From version 0.12, the only valid positional argument will be `data`, and passing other arguments without an explicit keyword will result in an error or misinterpretation.\n",
      "  warnings.warn(\n",
      "C:\\Users\\lxk200008\\Anaconda3\\lib\\site-packages\\seaborn\\_decorators.py:36: FutureWarning: Pass the following variable as a keyword arg: x. From version 0.12, the only valid positional argument will be `data`, and passing other arguments without an explicit keyword will result in an error or misinterpretation.\n",
      "  warnings.warn(\n",
      "C:\\Users\\lxk200008\\Anaconda3\\lib\\site-packages\\seaborn\\_decorators.py:36: FutureWarning: Pass the following variable as a keyword arg: x. From version 0.12, the only valid positional argument will be `data`, and passing other arguments without an explicit keyword will result in an error or misinterpretation.\n",
      "  warnings.warn(\n",
      "C:\\Users\\lxk200008\\Anaconda3\\lib\\site-packages\\seaborn\\_decorators.py:36: FutureWarning: Pass the following variable as a keyword arg: x. From version 0.12, the only valid positional argument will be `data`, and passing other arguments without an explicit keyword will result in an error or misinterpretation.\n",
      "  warnings.warn(\n",
      "C:\\Users\\lxk200008\\Anaconda3\\lib\\site-packages\\seaborn\\_decorators.py:36: FutureWarning: Pass the following variable as a keyword arg: x. From version 0.12, the only valid positional argument will be `data`, and passing other arguments without an explicit keyword will result in an error or misinterpretation.\n",
      "  warnings.warn(\n"
     ]
    },
    {
     "data": {
      "image/png": "[encoded data removed]",
      "text/plain": [
       "<Figure size 1440x720 with 10 Axes>"
      ]
     },
     "metadata": {
      "needs_background": "light"
     },
     "output_type": "display_data"
    }
   ],
   "source": [
    "categorical = [\n",
    "  'body_type', 'engine_type', 'engine_cylinders','franchise_dealer',\n",
    "    'fuel_type','is_new','listing_color','transmission','transmission_display','wheel_system'\n",
    "]\n",
    "fig, ax = plt.subplots(2, 5, figsize=(20, 10))\n",
    "for variable, subplot in zip(categorical, ax.flatten()):\n",
    "    sns.countplot(df[variable], ax=subplot)\n",
    "    for label in subplot.get_xticklabels():\n",
    "        label.set_rotation(90)"
   ]
  },
  {
   "cell_type": "markdown",
   "id": "8a0cf96c",
   "metadata": {},
   "source": [
    "For the above categorical variables, Fuel type \"Gasoline\" and Transmission type \"Automatic\" as we considered US data and majority of the vehicles are gasoline Automatic vehicles. Also, engine_cylinders and engine_type gives the same information and one of the variables can be dropped later.\n",
    "\n",
    "Transmission_display has the data combination of transmission and speed(may be number of gears or top speed), so numeric part should be extracted as the text part transmission type is already available in \"transmission\" column.\n",
    "\n",
    "There are few records which are electric vehicles with fuel_type electric. We need to handle these records as special cases anf fill the missing data for variables engine_type, horsepower, engine_displacement,fuel_tank_volume and transmission_display accorindgly but not with mode. Instead we should give names exclusively. \n"
   ]
  },
  {
   "cell_type": "markdown",
   "id": "9af332fa",
   "metadata": {},
   "source": [
    "# Data cleaning/ Pre processing"
   ]
  },
  {
   "cell_type": "markdown",
   "id": "47148840",
   "metadata": {},
   "source": [
    "1. Deletion of data - missing data, irrelevant data , duplicate/redundant data\n",
    "(i) drop the columns with almost 50% of missing data"
   ]
  },
  {
   "cell_type": "code",
   "execution_count": 10,
   "id": "b3398275",
   "metadata": {},
   "outputs": [
    {
     "data": {
      "text/html": [
       "<div>\n",
       "<style scoped>\n",
       "    .dataframe tbody tr th:only-of-type {\n",
       "        vertical-align: middle;\n",
       "    }\n",
       "\n",
       "    .dataframe tbody tr th {\n",
       "        vertical-align: top;\n",
       "    }\n",
       "\n",
       "    .dataframe thead th {\n",
       "        text-align: right;\n",
       "    }\n",
       "</style>\n",
       "<table border=\"1\" class=\"dataframe\">\n",
       "  <thead>\n",
       "    <tr style=\"text-align: right;\">\n",
       "      <th></th>\n",
       "      <th>column_name</th>\n",
       "      <th>percent_missing</th>\n",
       "    </tr>\n",
       "  </thead>\n",
       "  <tbody>\n",
       "    <tr>\n",
       "      <th>bed</th>\n",
       "      <td>bed</td>\n",
       "      <td>99.698946</td>\n",
       "    </tr>\n",
       "    <tr>\n",
       "      <th>bed_height</th>\n",
       "      <td>bed_height</td>\n",
       "      <td>87.305569</td>\n",
       "    </tr>\n",
       "    <tr>\n",
       "      <th>bed_length</th>\n",
       "      <td>bed_length</td>\n",
       "      <td>87.305569</td>\n",
       "    </tr>\n",
       "    <tr>\n",
       "      <th>cabin</th>\n",
       "      <td>cabin</td>\n",
       "      <td>98.595083</td>\n",
       "    </tr>\n",
       "    <tr>\n",
       "      <th>combine_fuel_economy</th>\n",
       "      <td>combine_fuel_economy</td>\n",
       "      <td>100.000000</td>\n",
       "    </tr>\n",
       "    <tr>\n",
       "      <th>fleet</th>\n",
       "      <td>fleet</td>\n",
       "      <td>48.218766</td>\n",
       "    </tr>\n",
       "    <tr>\n",
       "      <th>frame_damaged</th>\n",
       "      <td>frame_damaged</td>\n",
       "      <td>48.218766</td>\n",
       "    </tr>\n",
       "    <tr>\n",
       "      <th>has_accidents</th>\n",
       "      <td>has_accidents</td>\n",
       "      <td>48.218766</td>\n",
       "    </tr>\n",
       "    <tr>\n",
       "      <th>isCab</th>\n",
       "      <td>isCab</td>\n",
       "      <td>48.218766</td>\n",
       "    </tr>\n",
       "    <tr>\n",
       "      <th>is_certified</th>\n",
       "      <td>is_certified</td>\n",
       "      <td>100.000000</td>\n",
       "    </tr>\n",
       "    <tr>\n",
       "      <th>is_cpo</th>\n",
       "      <td>is_cpo</td>\n",
       "      <td>92.624185</td>\n",
       "    </tr>\n",
       "    <tr>\n",
       "      <th>is_oemcpo</th>\n",
       "      <td>is_oemcpo</td>\n",
       "      <td>94.982439</td>\n",
       "    </tr>\n",
       "    <tr>\n",
       "      <th>owner_count</th>\n",
       "      <td>owner_count</td>\n",
       "      <td>50.978424</td>\n",
       "    </tr>\n",
       "    <tr>\n",
       "      <th>salvage</th>\n",
       "      <td>salvage</td>\n",
       "      <td>48.218766</td>\n",
       "    </tr>\n",
       "    <tr>\n",
       "      <th>theft_title</th>\n",
       "      <td>theft_title</td>\n",
       "      <td>48.218766</td>\n",
       "    </tr>\n",
       "    <tr>\n",
       "      <th>vehicle_damage_category</th>\n",
       "      <td>vehicle_damage_category</td>\n",
       "      <td>100.000000</td>\n",
       "    </tr>\n",
       "  </tbody>\n",
       "</table>\n",
       "</div>"
      ],
      "text/plain": [
       "                                     column_name  percent_missing\n",
       "bed                                          bed        99.698946\n",
       "bed_height                            bed_height        87.305569\n",
       "bed_length                            bed_length        87.305569\n",
       "cabin                                      cabin        98.595083\n",
       "combine_fuel_economy        combine_fuel_economy       100.000000\n",
       "fleet                                      fleet        48.218766\n",
       "frame_damaged                      frame_damaged        48.218766\n",
       "has_accidents                      has_accidents        48.218766\n",
       "isCab                                      isCab        48.218766\n",
       "is_certified                        is_certified       100.000000\n",
       "is_cpo                                    is_cpo        92.624185\n",
       "is_oemcpo                              is_oemcpo        94.982439\n",
       "owner_count                          owner_count        50.978424\n",
       "salvage                                  salvage        48.218766\n",
       "theft_title                          theft_title        48.218766\n",
       "vehicle_damage_category  vehicle_damage_category       100.000000"
      ]
     },
     "execution_count": 10,
     "metadata": {},
     "output_type": "execute_result"
    }
   ],
   "source": [
    "percent_missing=df.isnull().sum() / df.shape[0] * 100.00\n",
    "missing_value_df = pd.DataFrame({'column_name': df.columns,\n",
    "                                 'percent_missing': percent_missing})\n",
    "#Columns which has more than 45% missing data\n",
    "missing_value_df= missing_value_df[missing_value_df['percent_missing'] > 45]\n",
    "missing_value_df"
   ]
  },
  {
   "cell_type": "markdown",
   "id": "b16db242",
   "metadata": {},
   "source": [
    "Drop the columns based on missing percentage- drop columns with almost 50% of data missing "
   ]
  },
  {
   "cell_type": "code",
   "execution_count": 11,
   "id": "ef56f0fb",
   "metadata": {},
   "outputs": [],
   "source": [
    "null_columns = df.columns[df.isnull().sum() / df.shape[0] * 100.00 >45]\n",
    "df = df.drop(null_columns,axis=1)"
   ]
  },
  {
   "cell_type": "markdown",
   "id": "01424646",
   "metadata": {},
   "source": [
    "Drop below columns which are irrelevant based on data understanding and which does not account to  Price estimation\n",
    "Vin- Vehicle Identification number\n",
    "Description\n",
    "Listing ID from the website\n",
    "Dealer_zip\n",
    "City\n",
    "main picture url\n",
    "sp_id\n",
    "trimID\n",
    "sp_name\n",
    "trim_name\n",
    "longitude\n",
    "latitude\n"
   ]
  },
  {
   "cell_type": "code",
   "execution_count": 12,
   "id": "60413c21",
   "metadata": {},
   "outputs": [],
   "source": [
    "irrelevant_columns = df[['vin','description','listing_id','dealer_zip','city',\n",
    "                         'main_picture_url','sp_id','sp_name','trimId','sp_name','trim_name','longitude','latitude']]\n",
    "df.drop(irrelevant_columns,axis=1,inplace=True)"
   ]
  },
  {
   "cell_type": "markdown",
   "id": "365b20ae",
   "metadata": {},
   "source": [
    "Drop columns with redundant and duplicate data\n",
    "1. Engine Type/Engine Cylinders\n",
    "2. Wheel system/Wheel System display\n",
    "3. Drop franchise make and retain franchise_dealer"
   ]
  },
  {
   "cell_type": "code",
   "execution_count": 13,
   "id": "2c34688b",
   "metadata": {},
   "outputs": [],
   "source": [
    "redundant_cols= df[['engine_cylinders','wheel_system_display','franchise_make','exterior_color','interior_color','major_options']]\n",
    "df.drop(redundant_cols,axis=1,inplace=True)"
   ]
  },
  {
   "cell_type": "markdown",
   "id": "a81e57bd",
   "metadata": {},
   "source": [
    "Feature Engineering/New extracted columns\n",
    "1. Transmission display to be extracted as speed/gears with only numerical part\n",
    "2. City fuel economy and Highway fuel economy should be weighted into one variable as combined_fuel_economy\n",
    "3. Age of vehicle from the difference of year and listing_date\n",
    "4. Remove text unit_type \"in\" for the columns back_legroom,front_legroom,height, length,wheelbase,width and convert to float datatype\n",
    "5. Remove text \"seats\" from maximum_seating column and convert to int datatype\n",
    "6. Column fuel_tank_volume should be converted to float datatype by removing the unit type \"gal\" in the data\n",
    "7. Variable Power and Torque which are expressed as text with two terms \"power and rpm\" in the data for each variable.\n",
    "Split data in power to horse_p and power_rpm; split torque into torque_p and torque_rpm"
   ]
  },
  {
   "cell_type": "code",
   "execution_count": 14,
   "id": "2f820e48",
   "metadata": {},
   "outputs": [
    {
     "data": {
      "text/plain": [
       "Automatic                             775\n",
       "6-Speed Automatic                     327\n",
       "Continuously Variable Transmission    327\n",
       "8-Speed Automatic                     227\n",
       "9-Speed Automatic                     121\n",
       "6-Speed Automatic Overdrive            76\n",
       "7-Speed Automatic                      35\n",
       "5-Speed Automatic                      29\n",
       "6-Speed Manual                         12\n",
       "8-Speed Automatic Overdrive             6\n",
       "4-Speed Automatic                       5\n",
       "Manual                                  4\n",
       "6-Speed Dual Clutch                     3\n",
       "7-Speed CVT                             2\n",
       "1-Speed Automatic                       2\n",
       "5-Speed Automatic Overdrive             2\n",
       "9-Speed Automatic Overdrive             2\n",
       "7-Speed Automatic Overdrive             1\n",
       "8-Speed Dual Clutch                     1\n",
       "4-Speed Automatic Overdrive             1\n",
       "7-Speed Manual                          1\n",
       "Name: transmission_display, dtype: int64"
      ]
     },
     "execution_count": 14,
     "metadata": {},
     "output_type": "execute_result"
    }
   ],
   "source": [
    "#1.Transmission_display \n",
    "#different categories and most frequently occuring categories can be seen below\n",
    "count1 = df['transmission_display'].value_counts()\n",
    "count1"
   ]
  },
  {
   "cell_type": "markdown",
   "id": "a3e64338",
   "metadata": {},
   "source": [
    "We need the integer part of the columns beacuse the text part is already available in \"transmission\" column. But there are two values which does not have integer part and we need to impute most frequent value to those categories \n",
    "\"Continously Variable transmission\",\"Automatic\" and \"Manual\"\n",
    "We have \"6\" as most frequent for all the data, So, impute 6 for above three categories, extract integer part for entire column and convert to integer type"
   ]
  },
  {
   "cell_type": "code",
   "execution_count": 15,
   "id": "71a0f96b",
   "metadata": {},
   "outputs": [],
   "source": [
    "#1. Assign values\n",
    "dictionary = {\"Automatic\": \"6\", \"Continuously Variable Transmission\": \"6\", \"Manual\": \"6\"}\n",
    "df[\"transmission_display\"].replace(dictionary, inplace=True)\n",
    "\n",
    "#Extract integer part and convert to float\n",
    "df[\"transmission_display\"] = df[\"transmission_display\"].str.extract('(\\d+)', expand=False).astype(\"float\")"
   ]
  },
  {
   "cell_type": "code",
   "execution_count": 16,
   "id": "adc27109",
   "metadata": {},
   "outputs": [],
   "source": [
    "#2. combined fuel economy is weighted average of city and highway fuel economy  \n",
    "#combined= 0.55*city_fuel_economy+0.45*highway_fuek_economy\n",
    "df['combined_fuel_economy']=0.55*df['city_fuel_economy']+0.45*df['highway_fuel_economy']\n",
    "#drop the columns\n",
    "df.drop(\"city_fuel_economy\",axis=1,inplace=True)\n",
    "df.drop(\"highway_fuel_economy\",axis=1,inplace=True)"
   ]
  },
  {
   "cell_type": "code",
   "execution_count": 17,
   "id": "a9d9aca0",
   "metadata": {},
   "outputs": [],
   "source": [
    "# 3. age of the vehicle\n",
    "df['listed_date'] = df['listed_date'].apply(pd.to_datetime)\n",
    "df['age']= df['listed_date'].dt.year- df['year']\n",
    "#drop the columns\n",
    "df.drop(\"listed_date\",axis=1,inplace=True)\n",
    "df.drop(\"year\",axis=1,inplace=True)"
   ]
  },
  {
   "cell_type": "code",
   "execution_count": 18,
   "id": "0be5c5c9",
   "metadata": {},
   "outputs": [],
   "source": [
    "#4,5,6 Remove text unit_type \"in\" for the columns back_legroom,front_legroom,height, length,wheelbase,width\n",
    "#maximum_seating,fuel_tank_volume and convert to float datatype\n",
    "df[\"fuel_tank_volume\"] = df[\"fuel_tank_volume\"].str.extract('(\\d+)', expand=False).astype(\"float\")\n",
    "df[\"maximum_seating\"] = df[\"maximum_seating\"].str.extract('(\\d+)', expand=False).astype(\"float\")\n",
    "df[\"back_legroom\"] = df[\"back_legroom\"].str.extract('(\\d+)', expand=False).astype(\"float\")\n",
    "df[\"front_legroom\"] = df[\"front_legroom\"].str.extract('(\\d+)', expand=False).astype(\"float\")\n",
    "df[\"height\"] = df[\"height\"].str.extract('(\\d+)', expand=False).astype(\"float\")\n",
    "df[\"length\"] = df[\"length\"].str.extract('(\\d+)', expand=False).astype(\"float\")\n",
    "df[\"wheelbase\"] = df[\"wheelbase\"].str.extract('(\\d+)', expand=False).astype(\"float\")\n",
    "df[\"width\"] = df[\"width\"].str.extract('(\\d+)', expand=False).astype(\"float\")"
   ]
  },
  {
   "cell_type": "code",
   "execution_count": 19,
   "id": "3a788db0",
   "metadata": {},
   "outputs": [],
   "source": [
    "#7. Torque and Power\n",
    "#Extracted numeric part of torque variable and stored in two variables\n",
    "df[\"torque\"] = df[\"torque\"].str.replace(\",\",\"\").astype(\"str\")\n",
    "df[\"torque\"] = df[\"torque\"].apply(lambda x: [int(i) for i in x.split() if i.isdigit()])\n",
    "df[\"torque\"] = [x if len(x) == 2 else [0,0] for x in df[\"torque\"]]\n",
    "#Extracted numeric part of power variable and stored in two variables\n",
    "df[\"power\"] = df[\"power\"].str.replace(\",\",\"\").astype(\"str\")\n",
    "df[\"power\"] = df[\"power\"].apply(lambda x: [int(i) for i in x.split() if i.isdigit()])\n",
    "df[\"power\"] = [x if len(x) == 2 else [0,0] for x in df[\"power\"]]\n",
    "\n",
    "#Four new variables \n",
    "df[\"torque_p\"] = [x[0] for x in df[\"torque\"]]\n",
    "df[\"torque_rpm\"] = [x[1] for x in df[\"torque\"]]\n",
    "df[\"horse_p\"] = [x[0] for x in df[\"power\"]]\n",
    "df[\"power_rpm\"] = [x[1] for x in df[\"power\"]]"
   ]
  },
  {
   "cell_type": "code",
   "execution_count": 20,
   "id": "f6367f0b",
   "metadata": {},
   "outputs": [],
   "source": [
    "#after extraction, we could observe that newly extracted horse_p is similar to horse_power in actual data\n",
    "#so drop horse_p and retain actual variable \"horsepower\" \n",
    "df.drop(\"horse_p\",axis=1,inplace=True)\n",
    "df.drop(\"torque\",axis=1,inplace=True)\n",
    "df.drop(\"power\",axis=1,inplace=True)"
   ]
  },
  {
   "cell_type": "markdown",
   "id": "7d21b1dd",
   "metadata": {},
   "source": [
    "# Imputation- Handle null data\n"
   ]
  },
  {
   "cell_type": "code",
   "execution_count": 21,
   "id": "0acd5afa",
   "metadata": {},
   "outputs": [
    {
     "data": {
      "text/html": [
       "<div>\n",
       "<style scoped>\n",
       "    .dataframe tbody tr th:only-of-type {\n",
       "        vertical-align: middle;\n",
       "    }\n",
       "\n",
       "    .dataframe tbody tr th {\n",
       "        vertical-align: top;\n",
       "    }\n",
       "\n",
       "    .dataframe thead th {\n",
       "        text-align: right;\n",
       "    }\n",
       "</style>\n",
       "<table border=\"1\" class=\"dataframe\">\n",
       "  <thead>\n",
       "    <tr style=\"text-align: right;\">\n",
       "      <th></th>\n",
       "      <th>column_name</th>\n",
       "      <th>percent_missing</th>\n",
       "    </tr>\n",
       "  </thead>\n",
       "  <tbody>\n",
       "    <tr>\n",
       "      <th>back_legroom</th>\n",
       "      <td>back_legroom</td>\n",
       "      <td>6.221776</td>\n",
       "    </tr>\n",
       "    <tr>\n",
       "      <th>body_type</th>\n",
       "      <td>body_type</td>\n",
       "      <td>0.301054</td>\n",
       "    </tr>\n",
       "    <tr>\n",
       "      <th>engine_displacement</th>\n",
       "      <td>engine_displacement</td>\n",
       "      <td>4.214752</td>\n",
       "    </tr>\n",
       "    <tr>\n",
       "      <th>engine_type</th>\n",
       "      <td>engine_type</td>\n",
       "      <td>2.207727</td>\n",
       "    </tr>\n",
       "    <tr>\n",
       "      <th>front_legroom</th>\n",
       "      <td>front_legroom</td>\n",
       "      <td>4.365278</td>\n",
       "    </tr>\n",
       "    <tr>\n",
       "      <th>fuel_tank_volume</th>\n",
       "      <td>fuel_tank_volume</td>\n",
       "      <td>3.562469</td>\n",
       "    </tr>\n",
       "    <tr>\n",
       "      <th>fuel_type</th>\n",
       "      <td>fuel_type</td>\n",
       "      <td>1.956849</td>\n",
       "    </tr>\n",
       "    <tr>\n",
       "      <th>height</th>\n",
       "      <td>height</td>\n",
       "      <td>3.562469</td>\n",
       "    </tr>\n",
       "    <tr>\n",
       "      <th>horsepower</th>\n",
       "      <td>horsepower</td>\n",
       "      <td>4.214752</td>\n",
       "    </tr>\n",
       "    <tr>\n",
       "      <th>length</th>\n",
       "      <td>length</td>\n",
       "      <td>3.562469</td>\n",
       "    </tr>\n",
       "    <tr>\n",
       "      <th>maximum_seating</th>\n",
       "      <td>maximum_seating</td>\n",
       "      <td>3.562469</td>\n",
       "    </tr>\n",
       "    <tr>\n",
       "      <th>mileage</th>\n",
       "      <td>mileage</td>\n",
       "      <td>5.318615</td>\n",
       "    </tr>\n",
       "    <tr>\n",
       "      <th>seller_rating</th>\n",
       "      <td>seller_rating</td>\n",
       "      <td>0.752634</td>\n",
       "    </tr>\n",
       "    <tr>\n",
       "      <th>transmission</th>\n",
       "      <td>transmission</td>\n",
       "      <td>1.705971</td>\n",
       "    </tr>\n",
       "    <tr>\n",
       "      <th>transmission_display</th>\n",
       "      <td>transmission_display</td>\n",
       "      <td>1.705971</td>\n",
       "    </tr>\n",
       "    <tr>\n",
       "      <th>wheel_system</th>\n",
       "      <td>wheel_system</td>\n",
       "      <td>3.863522</td>\n",
       "    </tr>\n",
       "    <tr>\n",
       "      <th>wheelbase</th>\n",
       "      <td>wheelbase</td>\n",
       "      <td>3.562469</td>\n",
       "    </tr>\n",
       "    <tr>\n",
       "      <th>width</th>\n",
       "      <td>width</td>\n",
       "      <td>3.562469</td>\n",
       "    </tr>\n",
       "    <tr>\n",
       "      <th>combined_fuel_economy</th>\n",
       "      <td>combined_fuel_economy</td>\n",
       "      <td>15.253387</td>\n",
       "    </tr>\n",
       "  </tbody>\n",
       "</table>\n",
       "</div>"
      ],
      "text/plain": [
       "                                 column_name  percent_missing\n",
       "back_legroom                    back_legroom         6.221776\n",
       "body_type                          body_type         0.301054\n",
       "engine_displacement      engine_displacement         4.214752\n",
       "engine_type                      engine_type         2.207727\n",
       "front_legroom                  front_legroom         4.365278\n",
       "fuel_tank_volume            fuel_tank_volume         3.562469\n",
       "fuel_type                          fuel_type         1.956849\n",
       "height                                height         3.562469\n",
       "horsepower                        horsepower         4.214752\n",
       "length                                length         3.562469\n",
       "maximum_seating              maximum_seating         3.562469\n",
       "mileage                              mileage         5.318615\n",
       "seller_rating                  seller_rating         0.752634\n",
       "transmission                    transmission         1.705971\n",
       "transmission_display    transmission_display         1.705971\n",
       "wheel_system                    wheel_system         3.863522\n",
       "wheelbase                          wheelbase         3.562469\n",
       "width                                  width         3.562469\n",
       "combined_fuel_economy  combined_fuel_economy        15.253387"
      ]
     },
     "execution_count": 21,
     "metadata": {},
     "output_type": "execute_result"
    }
   ],
   "source": [
    "#Columns which has atleast one missing value\n",
    "percent_missing=df.isnull().sum() / df.shape[0] * 100.00\n",
    "missing_value_df = pd.DataFrame({'column_name': df.columns,\n",
    "                                 'percent_missing': percent_missing})\n",
    "#Columns which has more than 45% missing data\n",
    "missing_value_df= missing_value_df[missing_value_df['percent_missing'] !=0]\n",
    "missing_value_df "
   ]
  },
  {
   "cell_type": "markdown",
   "id": "b0c97299",
   "metadata": {},
   "source": [
    "Check for non imputable columns\n",
    "Categorical columns- If there is no meaning in imputing the model for missing values, we will categorize those rows as \"unknown\" category\n",
    "Continuous columns- If there is no meaning in imputing the model for missing values, we will check the percentage of missing records and delete those rows instead of imputing irrelevant technique which may result in biased/incorrect results"
   ]
  },
  {
   "cell_type": "markdown",
   "id": "a7306b57",
   "metadata": {},
   "source": [
    "Impute Categorical variables\n",
    "1. Deal Electric vehicles separately as special cases before imputing data\n",
    "2. body_type\n",
    "2. engine_type\n",
    "3. fuel_type\n",
    "4. transmission\n",
    "5. wheel_system"
   ]
  },
  {
   "cell_type": "markdown",
   "id": "ef397594",
   "metadata": {},
   "source": [
    "Electric vehicles for which fuel_type is electric.Below columns will be definitely empty for these records.So these rows should be first imputed before dealing with all other missing values\n",
    "Assign engine_type as \"electric\"; transmission_display as \"6\" as 6 gears is most common; horse_power, engine_displacement, fuel_tank_volume can be replaced by mean of those columns."
   ]
  },
  {
   "cell_type": "code",
   "execution_count": 22,
   "id": "c3e33c4e",
   "metadata": {},
   "outputs": [],
   "source": [
    "#1. \n",
    "df.loc[df[\"fuel_type\"] == \"Electric\", \"engine_type\"] = \"Electric\"\n",
    "df.loc[df[\"fuel_type\"] == \"Electric\", \"transmission_display\"] = 6 #median of transmission display\n",
    "df.loc[df[\"fuel_type\"] == \"Electric\", \"horsepower\"] = df.horsepower.mean()\n",
    "df.loc[df[\"fuel_type\"] == \"Electric\", \"engine_displacement\"] = df.engine_displacement.mean()\n",
    "df.loc[df[\"fuel_type\"] == \"Electric\", \"fuel_tank_volume\"] = df.fuel_tank_volume.mean()"
   ]
  },
  {
   "cell_type": "code",
   "execution_count": 23,
   "id": "872ee1ac",
   "metadata": {},
   "outputs": [],
   "source": [
    "#2. Body type of the vehicle depends on the manufacturer and the model of the vehicle. So we find the most frequent body type for \n",
    "#same make and model and impute into na values\n",
    "mode_body = df.groupby(['make_name','model_name']).body_type.apply(lambda x: x.mode()).to_frame(name=\"mode\").reset_index()\n",
    "#merged both dataframes to get mode for each make and model\n",
    "df = (df.merge(mode_body, on=[\"make_name\", \"model_name\"]))\n",
    "\n",
    "#Assign the data in model column to the rows which has null values in body_type column\n",
    "df['body_type'] = np.where(df['body_type'].isna(), df['mode'], df['body_type'])\n",
    "\n",
    "#Drop the unneeded columns\n",
    "df = df.drop([\"mode\",\"level_2\"], axis=1)"
   ]
  },
  {
   "cell_type": "code",
   "execution_count": 24,
   "id": "120b8128",
   "metadata": {},
   "outputs": [],
   "source": [
    "#3. Engine_type of the vehicle depends on the manufacturer and the model of the vehicle. So we find the most frequent engine type for \n",
    "#same make and model and impute into na values\n",
    "mode_engine_type = df.groupby(['make_name','model_name']).engine_type.apply(lambda x: x.mode()).to_frame(name=\"mode\").reset_index()\n",
    "#merged both dataframes to get mode for each make and model\n",
    "df = (df.merge(mode_engine_type, on=[\"make_name\", \"model_name\"]))\n",
    "\n",
    "#Assign the data in model column to the rows which has null values in engine_type column\n",
    "df['engine_type'] = np.where(df['engine_type'].isna(), df['mode'], df['engine_type'])\n",
    "\n",
    "#Drop the unneeded columns\n",
    "df = df.drop([\"mode\",\"level_2\"], axis=1)"
   ]
  },
  {
   "cell_type": "code",
   "execution_count": 25,
   "id": "eb1b352b",
   "metadata": {},
   "outputs": [],
   "source": [
    "#4. Fuel type of the vehicle depends on the manufacturer and the model of the vehicle. So we find the most frequent fuel type for \n",
    "#same make and model and impute into na values\n",
    "mode_fuel = df.groupby(['make_name','model_name']).fuel_type.apply(lambda x: x.mode()).to_frame(name=\"mode\").reset_index()\n",
    "#merged both dataframes to get mode for each make and model\n",
    "df = (df.merge(mode_fuel, on=[\"make_name\", \"model_name\"]))\n",
    "\n",
    "#Assign the data in model column to the rows which has null values in fuel_type column\n",
    "df['fuel_type'] = np.where(df['fuel_type'].isna(), df['mode'], df['fuel_type'])\n",
    "\n",
    "#Drop the unneeded columns\n",
    "df = df.drop([\"mode\",\"level_2\"], axis=1)"
   ]
  },
  {
   "cell_type": "code",
   "execution_count": 26,
   "id": "de86de33",
   "metadata": {},
   "outputs": [],
   "source": [
    "#5. Transmission depends on the manufacturer and the model of the vehicle. So we find the most frequent transmission for \n",
    "#same make and model and impute into na values\n",
    "mode_transmission = df.groupby(['make_name','model_name']).transmission.apply(lambda x: x.mode()).to_frame(name=\"mode\").reset_index()\n",
    "#merged both dataframes to get mode for each make and model\n",
    "df = (df.merge(mode_transmission, on=[\"make_name\", \"model_name\"]))\n",
    "\n",
    "#Assign the data in model column to the rows which has null values in body_type column\n",
    "df['transmission'] = np.where(df['transmission'].isna(), df['mode'], df['transmission'])\n",
    "#Drop the unneeded columns\n",
    "df = df.drop([\"mode\",\"level_2\"], axis=1)\n"
   ]
  },
  {
   "cell_type": "code",
   "execution_count": 27,
   "id": "012a875a",
   "metadata": {},
   "outputs": [],
   "source": [
    "#5. wheel_system of the vehicle depends on the manufacturer and the model of the vehicle. So we find the most frequent wheel_system for \n",
    "#same make and model and impute into na values\n",
    "mode_wheel = df.groupby(['make_name','model_name']).wheel_system.apply(lambda x: x.mode()).to_frame(name=\"mode\").reset_index()\n",
    "#merged both dataframes to get mode for each make and model\n",
    "df = (df.merge(mode_wheel, on=[\"make_name\", \"model_name\"]))\n",
    "\n",
    "#Assign the data in model column to the rows which has null values in body_type column\n",
    "df['wheel_system'] = np.where(df['wheel_system'].isna(), df['mode'], df['wheel_system'])\n",
    "\n",
    "#Drop the unneeded columns\n",
    "df = df.drop([\"mode\",\"level_2\"], axis=1)"
   ]
  },
  {
   "cell_type": "markdown",
   "id": "dcf2b344",
   "metadata": {},
   "source": [
    "Numerical variables-\n",
    "1. Delete all the records for which mileage is null. This is because, mileage is an important variable and imputation might result in biased results. As missing is only 5% for mileage, remove all the rows with null values\n",
    "2. Impute the missing data with mean by grouping different categories "
   ]
  },
  {
   "cell_type": "code",
   "execution_count": 28,
   "id": "46f24b16",
   "metadata": {},
   "outputs": [],
   "source": [
    "df = df.dropna( how='any',subset=['mileage'])"
   ]
  },
  {
   "cell_type": "code",
   "execution_count": 29,
   "id": "0609e2e1",
   "metadata": {},
   "outputs": [],
   "source": [
    "#back_legroom and front_legroom, length, width and height and maximum seating columns depend on make, model and body type of vehicle.\n",
    "#so we need to impute these values with mean by aggregrating for make,model and body type\n",
    "df['back_legroom']=df.groupby(['make_name','model_name','body_type'])['back_legroom'].apply(lambda x:x.fillna(x.mean()))\n",
    "df['front_legroom']=df.groupby(['make_name','model_name','body_type'])['front_legroom'].apply(lambda x:x.fillna(x.mean()))\n",
    "df['height']=df.groupby(['make_name','model_name','body_type'])['height'].apply(lambda x:x.fillna(x.mean()))\n",
    "df['length']=df.groupby(['make_name','model_name','body_type'])['length'].apply(lambda x:x.fillna(x.mean()))\n",
    "df['width']=df.groupby(['make_name','model_name','body_type'])['width'].apply(lambda x:x.fillna(x.mean()))\n",
    "df['wheelbase']=df.groupby(['make_name','model_name','body_type'])['wheelbase'].apply(lambda x:x.fillna(x.mean()))\n",
    "df['maximum_seating']=df.groupby(['make_name','model_name','body_type'])['maximum_seating'].apply(lambda x:x.fillna(x.mean()))\n",
    "\n",
    "# average horse power depends on engine_type,fuel_type,make_name, model_name\n",
    "df['horsepower']=df.groupby(['engine_type','fuel_type','make_name','model_name'])['horsepower'].apply(lambda x:x.fillna(x.mean()))\n",
    "\n",
    "#average combined fuel economy depends on body_type, engine_type, fuel_type, horsepower, make_name and model_name and age\n",
    "df['combined_fuel_economy']=df.groupby(['body_type','engine_type','fuel_type','horsepower','make_name','model_name','age'])['combined_fuel_economy'].apply(lambda x:x.fillna(x.mean()))\n",
    "\n",
    "#Average engine displacement depends on engine_type, fuel_type, make_name and model_name and age\n",
    "df['engine_displacement']=df.groupby(['body_type','engine_type','fuel_type','make_name','model_name','age'])['engine_displacement'].apply(lambda x:x.fillna(x.mean()))\n",
    "\n",
    "#Average fuel tank volume depends on manufacturer, model and manufactured year(age) \n",
    "df['fuel_tank_volume']=df.groupby(['make_name','model_name','age'])['fuel_tank_volume'].apply(lambda x:x.fillna(x.mean()))\n",
    "\n"
   ]
  },
  {
   "cell_type": "code",
   "execution_count": 30,
   "id": "9d45dc79",
   "metadata": {},
   "outputs": [],
   "source": [
    "df['front_legroom'].fillna(value=df['front_legroom'].mean(), inplace=True)\n",
    "df['back_legroom'].fillna(value=df['front_legroom'].mean(), inplace=True)\n",
    "df['height'].fillna(value=df['height'].mean(), inplace=True)\n",
    "df['length'].fillna(value=df['length'].mean(), inplace=True)\n",
    "df['width'].fillna(value=df['width'].mean(), inplace=True)\n",
    "df['maximum_seating'].fillna(value=df['maximum_seating'].mean(), inplace=True)\n",
    "df['wheelbase'].fillna(value=df['wheelbase'].mean(), inplace=True)\n",
    "df['engine_displacement'].fillna(value=df['engine_displacement'].mean(), inplace=True)\n",
    "df['fuel_tank_volume'].fillna(value=df['fuel_tank_volume'].mean(), inplace=True)\n",
    "df['horsepower'].fillna(value=df['horsepower'].mean(), inplace=True)\n",
    "df['transmission_display'].fillna(value=df['transmission_display'].median(), inplace=True)\n",
    "df['combined_fuel_economy'].fillna(value=df['combined_fuel_economy'].median(), inplace=True)\n",
    "df['seller_rating'].fillna(value=df['seller_rating'].median(), inplace=True)\n",
    "\n"
   ]
  },
  {
   "cell_type": "code",
   "execution_count": 33,
   "id": "13eddad1",
   "metadata": {},
   "outputs": [],
   "source": [
    "#As there are many similar categories for engine_type, assign the data into similar buckets\n",
    "dict = {\"I4 Hybrid\": \"I4\", \"I4 Diesel\": \"I4\", \"I4 Flex Fuel Vehicle\": \"I4\", \"V6 Hybrid\": \"V6\", \"V6 Biodiesel\": \"V6\" ,\n",
    "              \"V6 Flex Fuel Vehicle\": \"V6\", \"V8 Flex Fuel Vehicle\": \"V8\", \"I6 Diesel\": \"I6\", \"I6 Biodiesel\": \"I6\", \"V6 Diesel\": \"V6\", \n",
    "              \"H4 Hybrid\": \"H4\", \"W12 Flex Fuel Vehicle\": \"W12\", \"V8 Hybrid\": \"V8\", \"I4 Compressed Natural Gas\": \"I4\", \"I6 Hybrid\": \"I6\",\n",
    "              \"V6 Compressed Natural Gas\": \"V6\", \"V8 Biodiesel\": \"V8\", \"V8 Diesel\": \"V8\", \"I5 Biodiesel\": \"I5\", \"V8 Compressed Natural Gas\": \"V8\",\n",
    "              \"I5 Diesel\": \"I5\", \"V8 Propane\": \"V8\", \"I3 Hybrid\": \"I3\", \"V10 Diesel\": \"V10\", \"V12 Hybrid\": \"V12\"}\n",
    "df[\"engine_type\"].replace(dict, inplace=True)\n",
    "del dict"
   ]
  },
  {
   "cell_type": "code",
   "execution_count": 43,
   "id": "5860171d",
   "metadata": {},
   "outputs": [],
   "source": [
    "#Categorize the manufacturers into five categories based on luxury and availibility of vehicles\n",
    "dict1 = {\"Ford\":\"More_available\",\"Chevrolet\":\"More_available\",\"Honda\":\"More_available\",\"Nissan\":\"More_available\",\"Toyota\":\"More_available\",\"Jeep\":\"More_available\",\"Hyundai\":\"More_available\", \n",
    "         \"Subaru\": \"Average\",\"Kia\":\"Average\",\"Honda\":\"Average\",\"RAM\":\"Average\",\"Mercedes-Benz\":\"Average\",\"GMC\":\"Average\",\"Dodge\":\"Average\",\"BMW\":\"Average\",\"Mazda\": \"Average\", \n",
    "         \"Lexus\":\"Luxury\",\"Volkswagen\":\"Luxury\",\"Audi\":\"Luxury\",\"Chyrsler\":\"Luxury\",\"Buick\":\"Luxury\",\"Cadillac\":\"Luxury\",\"Volvo\":\"Luxury\",\"Lincoln\":\"Luxury\",\"Mitsubishi\":\"Luxury\",\"INFINITI\":\"Luxury\",\"Acura\":\"Luxury\",\n",
    "         \"Land Rover\":\"Rare\",\"Jaguar\":\"Rare\",\"MINI\":\"Rare\",\"Porsche\":\"Rare\",\"Maserati\":\"Rare\",\"Ferrari\":\"Rare\",\"smart\":\"Rare\",\"FIAT\":\"Rare\",\"Genesis\":\"Rare\",\"Rolls-Royce\":\"Rare\",\"Alfa Romeo\":\"Rare\",\"Suziki\":\"Rare\",\"Tesla\":\"Rare\",\"Aston Martin\":\"Rare\"}\n",
    "df[\"make_name\"].replace(dict1, inplace=True)\n",
    "del dict1"
   ]
  },
  {
   "cell_type": "code",
   "execution_count": 44,
   "id": "e846800b",
   "metadata": {},
   "outputs": [],
   "source": [
    "cols=pd.get_dummies(df[\"engine_type\"],prefix=\"engine_type\")\n",
    "df[cols.columns]=cols\n",
    "df.drop(\"engine_type\",axis=1,inplace=True)\n",
    "cols=pd.get_dummies(df[\"fuel_type\"],prefix=\"fuel_type\")\n",
    "df[cols.columns]=cols\n",
    "df.drop(\"fuel_type\",axis=1,inplace=True)\n",
    "cols=pd.get_dummies(df[\"body_type\"],prefix=\"body_type\")\n",
    "df[cols.columns]=cols\n",
    "df.drop(\"body_type\",axis=1,inplace=True)\n",
    "cols=pd.get_dummies(df[\"transmission\"],prefix=\"transmission\")\n",
    "df[cols.columns]=cols\n",
    "df.drop(\"transmission\",axis=1,inplace=True)\n",
    "cols=pd.get_dummies(df[\"wheel_system\"],prefix=\"wheel_system\")\n",
    "df[cols.columns]=cols\n",
    "df.drop(\"wheel_system\",axis=1,inplace=True)\n",
    "cols=pd.get_dummies(df[\"listing_color\"],prefix=\"listing_color\")\n",
    "df[cols.columns]=cols\n",
    "df.drop(\"listing_color\",axis=1,inplace=True)\n",
    "cols=pd.get_dummies(df[\"make_name\"],prefix=\"make_name\")\n",
    "df[cols.columns]=cols\n",
    "df.drop(\"make_name\",axis=1,inplace=True)\n"
   ]
  },
  {
   "cell_type": "markdown",
   "id": "cb335eb4",
   "metadata": {},
   "source": [
    "# Model building"
   ]
  },
  {
   "cell_type": "code",
   "execution_count": 80,
   "id": "36ad0651",
   "metadata": {},
   "outputs": [],
   "source": [
    "from sklearn.preprocessing import MinMaxScaler\n",
    "from sklearn.preprocessing import StandardScaler\n",
    "from sklearn.preprocessing import MinMaxScaler\n",
    "from sklearn.model_selection import train_test_split"
   ]
  },
  {
   "cell_type": "code",
   "execution_count": 81,
   "id": "ca921e18",
   "metadata": {},
   "outputs": [],
   "source": [
    "#Standard scaling using Standard Scaler\n",
    "from sklearn.model_selection import train_test_split\n",
    "from sklearn.preprocessing import StandardScaler\n",
    "X = df.drop('price', axis = 1)\n",
    "y = df['price']\n",
    "\n",
    "X_train_orig, X_test_orig, y_train, y_test = train_test_split(X, y, random_state = 0)\n",
    "\n",
    "scaler = MinMaxScaler()\n",
    "X_train = scaler.fit_transform(X_train_orig)\n",
    "X_test = scaler.transform(X_test_orig)"
   ]
  },
  {
   "cell_type": "markdown",
   "id": "5d5ab94b",
   "metadata": {},
   "source": [
    "# Linear Regression"
   ]
  },
  {
   "cell_type": "code",
   "execution_count": 82,
   "id": "652d43cb",
   "metadata": {},
   "outputs": [
    {
     "name": "stdout",
     "output_type": "stream",
     "text": [
      "train:  0.8283053922174043\n",
      "test:  -3.0051744001610107e+18\n"
     ]
    }
   ],
   "source": [
    "from sklearn.linear_model import LinearRegression\n",
    "\n",
    "lreg = LinearRegression()\n",
    "lreg.fit(X_train, y_train)\n",
    "print('train: ', lreg.score(X_train, y_train))\n",
    "print('test: ', lreg.score(X_test, y_test))\n"
   ]
  },
  {
   "cell_type": "code",
   "execution_count": 83,
   "id": "6be1852a",
   "metadata": {},
   "outputs": [
    {
     "name": "stdout",
     "output_type": "stream",
     "text": [
      "Mean cross-validation training score (5-fold): -340586941844716650496.0000\n",
      "Mean cross-validation testing score (5-fold): -94986393061385071230976.0000\n"
     ]
    }
   ],
   "source": [
    "from sklearn.model_selection import cross_validate\n",
    "from sklearn.model_selection import GridSearchCV\n",
    "from sklearn.model_selection import cross_val_score\n",
    "from sklearn.metrics import mean_squared_error\n",
    "\n",
    "#Cross validation with five folds\n",
    "cv_scores = cross_val_score(lreg, X_train, y_train,cv = 5)\n",
    "cv_test_scores = cross_val_score(lreg, X_test, y_test,cv = 5)\n",
    "\n",
    "#Cross validation - mean of train and test scores\n",
    "print('Mean cross-validation training score (5-fold): {:.4f}'.format(np.mean(cv_scores)))\n",
    "print('Mean cross-validation testing score (5-fold): {:.4f}'.format(np.mean(cv_test_scores)))"
   ]
  },
  {
   "cell_type": "markdown",
   "id": "0ea4d6cb",
   "metadata": {},
   "source": [
    "Above linear regression could be inappropriate as the test score is negative and extremely high. Also the cross validation seems incorrect"
   ]
  },
  {
   "cell_type": "markdown",
   "id": "a0300b9c",
   "metadata": {},
   "source": [
    "# Lasso Regression"
   ]
  },
  {
   "cell_type": "code",
   "execution_count": 84,
   "id": "99291440",
   "metadata": {},
   "outputs": [
    {
     "name": "stdout",
     "output_type": "stream",
     "text": [
      "alpha:  1\n",
      "[-1.09570134e+04 -2.58620973e+04  1.31471599e+04  1.14057400e+05\n",
      "  4.07078170e+03 -4.29487290e+03 -1.24904013e+04 -1.75822204e+04\n",
      " -6.57787368e+03  6.45353898e+03 -5.53805846e+03 -1.94833989e+04\n",
      " -4.60328845e+03  3.12651260e+03 -1.31611465e+03  2.80185407e+03\n",
      " -1.11295510e+03  7.87843995e+03 -4.08384444e+03 -2.74123660e+03\n",
      " -4.96191794e+03  1.00598100e+04  2.17257363e+05 -4.55924504e+03\n",
      "  3.25293749e+03  0.00000000e+00  0.00000000e+00  2.95456898e+03\n",
      "  1.54774213e+02 -8.50932599e+03 -4.69136536e+03 -0.00000000e+00\n",
      "  1.87521644e+04  4.75222252e+03  2.12100860e+03 -1.03646171e+03\n",
      " -8.05260369e+03 -0.00000000e+00 -1.89360673e+02  8.69879894e+03\n",
      " -5.81320447e+02  4.17760266e+02 -2.52431863e+01  2.17824911e+03\n",
      " -3.72916174e+03  3.76126127e+03 -5.79059320e+03  2.25015848e+03\n",
      "  7.95594273e+01 -9.89962558e+03  4.93475693e+02 -5.99282231e+02\n",
      "  5.44744124e+02  1.97272248e+03 -0.00000000e+00 -4.30420481e+03\n",
      "  3.27777982e+03  0.00000000e+00 -5.04457335e+02 -9.27617215e+02\n",
      "  4.26986276e+03  2.21814857e+03 -4.12383634e+02 -0.00000000e+00\n",
      " -2.53343827e+02 -1.17592914e+03  1.92147506e+03 -1.97365122e+03\n",
      "  1.66956223e+04  1.03292738e+04]\n",
      "alpha:  10\n",
      "[ -8411.25697514 -17957.5462269   10961.8634341  113036.18102008\n",
      "   4456.62145904  -1229.86416691 -11612.383545   -12741.13519343\n",
      "  -5425.95687943    852.21220965     -0.         -19139.71897332\n",
      "  -2581.19703549    625.31955119   -279.00396527      0.\n",
      "     -0.           4472.33054153  -2077.42455831  -1420.47357263\n",
      "   -489.93449291   8342.8698528  209507.99671836  -4373.04709027\n",
      "    605.30496169      0.              0.           2750.19905026\n",
      "      0.          -7013.8203927   -3568.06820341      0.\n",
      "  17172.42250308   3953.74436657   1634.94233551   -739.73979192\n",
      "  -6171.4286534      -0.           -303.20623571   8553.875161\n",
      "     -0.            310.52903931     -0.              0.\n",
      "  -2216.52439858   3512.39308709  -4598.14646497   2125.77442133\n",
      "     -0.          -8786.24471025    490.50335218   -381.50278317\n",
      "      0.              0.              0.          -2810.30298919\n",
      "    922.07772652      0.           -334.55822289   -902.96764816\n",
      "      0.           2366.93877032   -283.53921678     -0.\n",
      "     -0.          -1160.74677467   1985.9586725   -1614.08506653\n",
      "  17046.2785349       0.        ]\n",
      "alpha:  100\n",
      "[-0.00000000e+00 -0.00000000e+00  0.00000000e+00  9.22086155e+04\n",
      "  5.38804001e+03 -0.00000000e+00 -7.00480736e+03 -0.00000000e+00\n",
      " -0.00000000e+00  0.00000000e+00  0.00000000e+00 -1.99556399e+04\n",
      "  0.00000000e+00 -2.20646118e+03 -0.00000000e+00  0.00000000e+00\n",
      "  0.00000000e+00  0.00000000e+00 -0.00000000e+00 -0.00000000e+00\n",
      " -0.00000000e+00  2.26998868e+03  1.69239891e+05 -3.36142929e+03\n",
      " -1.13457038e+03  0.00000000e+00  0.00000000e+00  7.85689662e+01\n",
      "  0.00000000e+00 -2.54021540e+03 -0.00000000e+00  0.00000000e+00\n",
      "  3.00362235e+03  0.00000000e+00  0.00000000e+00 -0.00000000e+00\n",
      " -2.54096679e+03  0.00000000e+00 -7.04768853e+02  0.00000000e+00\n",
      " -0.00000000e+00  0.00000000e+00 -0.00000000e+00  0.00000000e+00\n",
      " -0.00000000e+00  1.90831484e+03 -0.00000000e+00  2.58235188e+03\n",
      " -0.00000000e+00 -0.00000000e+00  3.21433608e+02 -0.00000000e+00\n",
      "  0.00000000e+00 -0.00000000e+00 -0.00000000e+00 -0.00000000e+00\n",
      "  0.00000000e+00  0.00000000e+00 -0.00000000e+00 -3.87449239e+02\n",
      "  0.00000000e+00  2.44153938e+03  0.00000000e+00  0.00000000e+00\n",
      " -0.00000000e+00 -0.00000000e+00  1.34309732e+03 -1.64094316e+03\n",
      "  1.78071390e+04  0.00000000e+00]\n",
      "alpha:  1000\n",
      "[    0.             0.             0.         33634.59218864\n",
      "  6977.12446025    -0.            -0.             0.\n",
      "     0.             0.            -0.         -7074.80915673\n",
      "     0.            -0.            -0.             0.\n",
      "    -0.             0.            -0.         -1283.6363837\n",
      "    -0.             0.             0.            -0.\n",
      "     0.             0.             0.             0.\n",
      "     0.            -0.             0.             0.\n",
      "     0.             0.            -0.            -0.\n",
      "     0.            -0.            -0.            -0.\n",
      "    -0.             0.            -0.             0.\n",
      "    -0.             0.            -0.             0.\n",
      " -5837.79729552     0.             0.            -0.\n",
      "    -0.            -0.            -0.            -0.\n",
      "    -0.             0.             0.            -0.\n",
      "    -0.             0.             0.             0.\n",
      "    -0.            -0.             0.         -1269.75676718\n",
      "  4007.89236178    -0.        ]\n"
     ]
    }
   ],
   "source": [
    "from sklearn.linear_model import Lasso\n",
    "for alpha in [1, 10, 100, 1000]:\n",
    "    lasso = Lasso(random_state = 0, alpha = alpha, max_iter = 10000)\n",
    "    lasso.fit(X_train, y_train)\n",
    "    print('alpha: ', alpha)\n",
    "    print(lasso.coef_)"
   ]
  },
  {
   "cell_type": "code",
   "execution_count": 85,
   "id": "2b2ab85a",
   "metadata": {},
   "outputs": [
    {
     "name": "stdout",
     "output_type": "stream",
     "text": [
      "train:  0.3585571919293924\n",
      "test:  0.5694907001005025\n"
     ]
    }
   ],
   "source": [
    "lasso = Lasso(alpha = 1000, random_state= 0)\n",
    "lasso.fit(X_train, y_train)\n",
    "print('train: ', lasso.score(X_train, y_train))\n",
    "print('test: ', lasso.score(X_test, y_test))"
   ]
  },
  {
   "cell_type": "code",
   "execution_count": 86,
   "id": "46005e52",
   "metadata": {
    "scrolled": true
   },
   "outputs": [
    {
     "name": "stderr",
     "output_type": "stream",
     "text": [
      "C:\\Users\\lxk200008\\Anaconda3\\lib\\site-packages\\sklearn\\linear_model\\_coordinate_descent.py:530: ConvergenceWarning: Objective did not converge. You might want to increase the number of iterations. Duality gap: 15503110325.410103, tolerance: 66769556.53059296\n",
      "  model = cd_fast.enet_coordinate_descent(\n",
      "C:\\Users\\lxk200008\\Anaconda3\\lib\\site-packages\\sklearn\\linear_model\\_coordinate_descent.py:530: ConvergenceWarning: Objective did not converge. You might want to increase the number of iterations. Duality gap: 1751839459.6615067, tolerance: 46995245.18958625\n",
      "  model = cd_fast.enet_coordinate_descent(\n",
      "C:\\Users\\lxk200008\\Anaconda3\\lib\\site-packages\\sklearn\\linear_model\\_coordinate_descent.py:530: ConvergenceWarning: Objective did not converge. You might want to increase the number of iterations. Duality gap: 15521131168.601273, tolerance: 69007577.40176584\n",
      "  model = cd_fast.enet_coordinate_descent(\n",
      "C:\\Users\\lxk200008\\Anaconda3\\lib\\site-packages\\sklearn\\linear_model\\_coordinate_descent.py:530: ConvergenceWarning: Objective did not converge. You might want to increase the number of iterations. Duality gap: 4818916368.390663, tolerance: 59685681.324168265\n",
      "  model = cd_fast.enet_coordinate_descent(\n"
     ]
    },
    {
     "name": "stdout",
     "output_type": "stream",
     "text": [
      "Train Score: 0.7961359742449912\n",
      "Test Score : 0.6520740310554958\n",
      "Best_parameters: {'alpha': 100, 'max_iter': 100000}\n",
      "Best score 0.7433\n"
     ]
    },
    {
     "name": "stderr",
     "output_type": "stream",
     "text": [
      "C:\\Users\\lxk200008\\Anaconda3\\lib\\site-packages\\sklearn\\linear_model\\_coordinate_descent.py:530: ConvergenceWarning: Objective did not converge. You might want to increase the number of iterations. Duality gap: 15923412858.326172, tolerance: 71074080.01870093\n",
      "  model = cd_fast.enet_coordinate_descent(\n"
     ]
    }
   ],
   "source": [
    "## Grid Search for paramater tuning\n",
    "params = {'alpha': [1000,100,10,1,0.1,0.01,0.001],'max_iter': [100000]}\n",
    "\n",
    "#cross validation with 5 folds\n",
    "model1 = GridSearchCV(Lasso(), params, cv=5)\n",
    "model1.fit(X_train,y_train)\n",
    "\n",
    "print (\"Train Score:\",model1.score(X_train, y_train))\n",
    "print (\"Test Score :\",model1.score(X_test, y_test))\n",
    "print(\"Best_parameters:\",model1.best_params_)\n",
    "print('Best score {:.4f}'.format(model1.best_score_))"
   ]
  },
  {
   "cell_type": "markdown",
   "id": "7c9e3388",
   "metadata": {},
   "source": [
    "      Lasso Regression\n",
    "Train Score: 0.7961359742449912\n",
    "Test Score : 0.6520740310554958\n",
    "Best_parameters: {'alpha': 100, 'max_iter': 100000}\n",
    "Best score 0.7433"
   ]
  },
  {
   "cell_type": "code",
   "execution_count": 152,
   "id": "ae8224e6",
   "metadata": {},
   "outputs": [
    {
     "name": "stdout",
     "output_type": "stream",
     "text": [
      "Train Score: 0.7961359742449912\n",
      "Test Score : 0.6520740310554958\n",
      "Mean cross-validation training score (5-fold): 0.7433\n"
     ]
    }
   ],
   "source": [
    "#Model with best parameters\n",
    "from sklearn import metrics\n",
    "lasso = Lasso(alpha = 100, max_iter = 1000000)\n",
    "lasso.fit(X_train, y_train)\n",
    "\n",
    "#predict target variable in test data\n",
    "lasso_pred=lasso.predict(X_test)\n",
    "\n",
    "print (\"Train Score:\",model1.score(X_train, y_train))\n",
    "print (\"Test Score :\",model1.score(X_test, y_test))\n",
    "\n",
    "# Cross Validation\n",
    "cv_scores = cross_val_score(lasso, X_train, y_train,cv = 5)\n",
    "cv_test_scores = cross_val_score(lasso, X_test, y_test,cv = 5)\n",
    "\n",
    "#Mean cross validation scores\n",
    "print('Mean cross-validation training score (5-fold): {:.4f}'.format(np.mean(cv_scores)))"
   ]
  },
  {
   "cell_type": "markdown",
   "id": "b70dc06f",
   "metadata": {},
   "source": [
    "# Ridge Regression"
   ]
  },
  {
   "cell_type": "code",
   "execution_count": 88,
   "id": "ba81a2cd",
   "metadata": {},
   "outputs": [],
   "source": [
    "#Ridge Regressor\n",
    "from sklearn.linear_model import Ridge\n",
    "train_score_list = []\n",
    "test_score_list = []\n",
    "\n",
    "for alpha in [0.01, 0.1, 1, 10, 100]: \n",
    "    ridge = Ridge(alpha)\n",
    "    ridge.fit(X_train,  y_train)\n",
    "    train_score_list.append(ridge.score(X_train, y_train))\n",
    "    test_score_list.append(ridge.score(X_test, y_test))"
   ]
  },
  {
   "cell_type": "code",
   "execution_count": 89,
   "id": "19ecd546",
   "metadata": {},
   "outputs": [
    {
     "data": {
      "image/png": "[encoded data removed]",
      "text/plain": [
       "<Figure size 1440x360 with 1 Axes>"
      ]
     },
     "metadata": {
      "needs_background": "light"
     },
     "output_type": "display_data"
    }
   ],
   "source": [
    "%matplotlib inline\n",
    "import matplotlib.pyplot as plt\n",
    "\n",
    "x_range = [0.01, 0.1, 1, 10, 100]\n",
    "plt.subplots(figsize = (20,5))\n",
    "plt.plot(x_range, train_score_list, c = 'g', label = 'Train Score')\n",
    "plt.plot(x_range, test_score_list, c = 'b', label = 'Test Score')\n",
    "plt.xscale('log')\n",
    "plt.legend(loc = 3)\n",
    "plt.xlabel(r'$\\alpha$')\n",
    "plt.grid()"
   ]
  },
  {
   "cell_type": "code",
   "execution_count": 90,
   "id": "dc6e73c1",
   "metadata": {},
   "outputs": [
    {
     "name": "stdout",
     "output_type": "stream",
     "text": [
      "[0.8283030715529907, 0.8280866586454241, 0.8159928430420808, 0.6949274665784662, 0.46212103815797756]\n",
      "[0.5691385097716156, 0.5816884379758648, 0.6538972950916553, 0.7081885080425168, 0.6293916346681871]\n"
     ]
    }
   ],
   "source": [
    "print(train_score_list)\n",
    "print(test_score_list)"
   ]
  },
  {
   "cell_type": "code",
   "execution_count": 91,
   "id": "b4c99284",
   "metadata": {},
   "outputs": [
    {
     "name": "stdout",
     "output_type": "stream",
     "text": [
      "Train score: 0.8283\n",
      "Test score: 0.5691\n"
     ]
    }
   ],
   "source": [
    "ridge = Ridge(alpha = 0.01)\n",
    "ridge.fit(X_train,y_train)\n",
    "print('Train score: {:.4f}'.format(ridge.score(X_train,y_train)))\n",
    "print('Test score: {:.4f}'.format(ridge.score(X_test, y_test)))"
   ]
  },
  {
   "cell_type": "code",
   "execution_count": 92,
   "id": "0ee0406f",
   "metadata": {},
   "outputs": [
    {
     "name": "stdout",
     "output_type": "stream",
     "text": [
      "Train Score: 0.8159928430420808\n",
      "Test Score : 0.6538972950916553\n",
      "Best_parameters: {'alpha': 1}\n",
      "Best score 0.7590\n"
     ]
    }
   ],
   "source": [
    "## Grid Search for paramater tuning\n",
    "params = {'alpha': [1000,100,10,1,0.1,0.01,0.001]}\n",
    "\n",
    "#cross validation with 5 folds\n",
    "model2 = GridSearchCV(Ridge(), params, cv=5)\n",
    "model2.fit(X_train,y_train)\n",
    "\n",
    "print (\"Train Score:\",model2.score(X_train, y_train))\n",
    "print (\"Test Score :\",model2.score(X_test, y_test))\n",
    "print(\"Best_parameters:\",model2.best_params_)\n",
    "print('Best score {:.4f}'.format(model2.best_score_))"
   ]
  },
  {
   "cell_type": "code",
   "execution_count": 93,
   "id": "2d557bd6",
   "metadata": {},
   "outputs": [
    {
     "data": {
      "image/png": "[encoded data removed]",
      "text/plain": [
       "<Figure size 576x432 with 1 Axes>"
      ]
     },
     "metadata": {},
     "output_type": "display_data"
    }
   ],
   "source": [
    "#Feature Selection\n",
    "sns.set(rc={'figure.figsize':(8,6)})\n",
    "x_range1 = np.linspace(0.001, 1, 100).reshape(-1,1)\n",
    "x_range2 = np.linspace(1, 10000, 10000).reshape(-1,1)\n",
    "\n",
    "x_range = np.append(x_range1, x_range2)\n",
    "coeff = []\n",
    "\n",
    "for alpha in x_range: \n",
    "    ridge = Ridge(alpha)\n",
    "    ridge.fit(X_train,y_train)\n",
    "    coeff.append(ridge.coef_ )\n",
    "    \n",
    "coeff = np.array(coeff)\n",
    "\n",
    "for i in range(0,24):\n",
    "    plt.plot(x_range, coeff[:,i], label = 'feature {:d}'.format(i))\n",
    "\n",
    "plt.rcParams[\"figure.figsize\"] = (6,4)\n",
    "plt.axhline(y=0, xmin=0.001, xmax=9999, linewidth=1, c ='gray')\n",
    "plt.xlabel(r'$\\alpha$')\n",
    "plt.xscale('log')\n",
    "plt.legend(loc='upper left', bbox_to_anchor=(2, 1.5),\n",
    "          ncol=6, fancybox=True, shadow=True)\n",
    "plt.show()"
   ]
  },
  {
   "cell_type": "code",
   "execution_count": 100,
   "id": "a1c7de88",
   "metadata": {},
   "outputs": [
    {
     "name": "stdout",
     "output_type": "stream",
     "text": [
      "Mean cross-validation training score (5-fold): 0.7590\n",
      "Mean cross-validation testing score (5-fold): 0.7456\n",
      "Root Mean Squared Error: 19.224361209986082\n"
     ]
    }
   ],
   "source": [
    "#Model with best parameters\n",
    "ridge = Ridge(alpha = 1)\n",
    "ridge.fit(X_train, y_train)\n",
    "\n",
    "#predict target variable in test data\n",
    "ridge_pred=ridge.predict(X_test)\n",
    "\n",
    "# Cross Validation\n",
    "cv_scores = cross_val_score(ridge, X_train, y_train,cv = 5)\n",
    "cv_test_scores = cross_val_score(ridge, X_test, y_test,cv = 5)\n",
    "\n",
    "#Mean cross validation scores\n",
    "print('Mean cross-validation training score (5-fold): {:.4f}'.format(np.mean(cv_scores)))\n",
    "print('Mean cross-validation testing score (5-fold): {:.4f}'.format(np.mean(cv_test_scores)))"
   ]
  },
  {
   "cell_type": "markdown",
   "id": "5e669b87",
   "metadata": {},
   "source": [
    "# Polynomial Regression"
   ]
  },
  {
   "cell_type": "code",
   "execution_count": 104,
   "id": "1e710abd",
   "metadata": {},
   "outputs": [],
   "source": [
    "from sklearn.preprocessing import PolynomialFeatures\n",
    "\n",
    "poly = PolynomialFeatures(degree = 2)\n",
    "X_train_poly = poly.fit_transform(X_train)\n",
    "X_test_poly = poly.transform(X_test)\n",
    "lreg = LinearRegression()"
   ]
  },
  {
   "cell_type": "code",
   "execution_count": 105,
   "id": "3987baa8",
   "metadata": {},
   "outputs": [
    {
     "name": "stdout",
     "output_type": "stream",
     "text": [
      "0.988684\n",
      "-8536824552463063.000000\n"
     ]
    }
   ],
   "source": [
    "lreg.fit(X_train_poly, y_train)\n",
    "print('%f'%lreg.score(X_train_poly, y_train))\n",
    "print('%f'%lreg.score(X_test_poly, y_test))"
   ]
  },
  {
   "cell_type": "code",
   "execution_count": 107,
   "id": "bb6c83b7",
   "metadata": {},
   "outputs": [
    {
     "name": "stderr",
     "output_type": "stream",
     "text": [
      "C:\\Users\\lxk200008\\Anaconda3\\lib\\site-packages\\sklearn\\model_selection\\_validation.py:610: FitFailedWarning: Estimator fit failed. The score on this train-test partition for these parameters will be set to nan. Details: \n",
      "Traceback (most recent call last):\n",
      "  File \"C:\\Users\\lxk200008\\Anaconda3\\lib\\site-packages\\sklearn\\model_selection\\_validation.py\", line 593, in _fit_and_score\n",
      "    estimator.fit(X_train, y_train, **fit_params)\n",
      "  File \"C:\\Users\\lxk200008\\Anaconda3\\lib\\site-packages\\sklearn\\pipeline.py\", line 341, in fit\n",
      "    Xt = self._fit(X, y, **fit_params_steps)\n",
      "  File \"C:\\Users\\lxk200008\\Anaconda3\\lib\\site-packages\\sklearn\\pipeline.py\", line 303, in _fit\n",
      "    X, fitted_transformer = fit_transform_one_cached(\n",
      "  File \"C:\\Users\\lxk200008\\Anaconda3\\lib\\site-packages\\joblib\\memory.py\", line 352, in __call__\n",
      "    return self.func(*args, **kwargs)\n",
      "  File \"C:\\Users\\lxk200008\\Anaconda3\\lib\\site-packages\\sklearn\\pipeline.py\", line 754, in _fit_transform_one\n",
      "    res = transformer.fit_transform(X, y, **fit_params)\n",
      "  File \"C:\\Users\\lxk200008\\Anaconda3\\lib\\site-packages\\sklearn\\base.py\", line 702, in fit_transform\n",
      "    return self.fit(X, y, **fit_params).transform(X)\n",
      "  File \"C:\\Users\\lxk200008\\Anaconda3\\lib\\site-packages\\sklearn\\preprocessing\\_data.py\", line 1810, in transform\n",
      "    XP[:, current_col:current_col + n_features] = X\n",
      "ValueError: could not broadcast input array from shape (1193,70) into shape (1193,0)\n",
      "\n",
      "  warnings.warn(\"Estimator fit failed. The score on this train-test\"\n",
      "C:\\Users\\lxk200008\\Anaconda3\\lib\\site-packages\\sklearn\\model_selection\\_validation.py:610: FitFailedWarning: Estimator fit failed. The score on this train-test partition for these parameters will be set to nan. Details: \n",
      "Traceback (most recent call last):\n",
      "  File \"C:\\Users\\lxk200008\\Anaconda3\\lib\\site-packages\\sklearn\\model_selection\\_validation.py\", line 593, in _fit_and_score\n",
      "    estimator.fit(X_train, y_train, **fit_params)\n",
      "  File \"C:\\Users\\lxk200008\\Anaconda3\\lib\\site-packages\\sklearn\\pipeline.py\", line 341, in fit\n",
      "    Xt = self._fit(X, y, **fit_params_steps)\n",
      "  File \"C:\\Users\\lxk200008\\Anaconda3\\lib\\site-packages\\sklearn\\pipeline.py\", line 303, in _fit\n",
      "    X, fitted_transformer = fit_transform_one_cached(\n",
      "  File \"C:\\Users\\lxk200008\\Anaconda3\\lib\\site-packages\\joblib\\memory.py\", line 352, in __call__\n",
      "    return self.func(*args, **kwargs)\n",
      "  File \"C:\\Users\\lxk200008\\Anaconda3\\lib\\site-packages\\sklearn\\pipeline.py\", line 754, in _fit_transform_one\n",
      "    res = transformer.fit_transform(X, y, **fit_params)\n",
      "  File \"C:\\Users\\lxk200008\\Anaconda3\\lib\\site-packages\\sklearn\\base.py\", line 702, in fit_transform\n",
      "    return self.fit(X, y, **fit_params).transform(X)\n",
      "  File \"C:\\Users\\lxk200008\\Anaconda3\\lib\\site-packages\\sklearn\\preprocessing\\_data.py\", line 1810, in transform\n",
      "    XP[:, current_col:current_col + n_features] = X\n",
      "ValueError: could not broadcast input array from shape (1193,70) into shape (1193,0)\n",
      "\n",
      "  warnings.warn(\"Estimator fit failed. The score on this train-test\"\n",
      "C:\\Users\\lxk200008\\Anaconda3\\lib\\site-packages\\sklearn\\model_selection\\_validation.py:610: FitFailedWarning: Estimator fit failed. The score on this train-test partition for these parameters will be set to nan. Details: \n",
      "Traceback (most recent call last):\n",
      "  File \"C:\\Users\\lxk200008\\Anaconda3\\lib\\site-packages\\sklearn\\model_selection\\_validation.py\", line 593, in _fit_and_score\n",
      "    estimator.fit(X_train, y_train, **fit_params)\n",
      "  File \"C:\\Users\\lxk200008\\Anaconda3\\lib\\site-packages\\sklearn\\pipeline.py\", line 341, in fit\n",
      "    Xt = self._fit(X, y, **fit_params_steps)\n",
      "  File \"C:\\Users\\lxk200008\\Anaconda3\\lib\\site-packages\\sklearn\\pipeline.py\", line 303, in _fit\n",
      "    X, fitted_transformer = fit_transform_one_cached(\n",
      "  File \"C:\\Users\\lxk200008\\Anaconda3\\lib\\site-packages\\joblib\\memory.py\", line 352, in __call__\n",
      "    return self.func(*args, **kwargs)\n",
      "  File \"C:\\Users\\lxk200008\\Anaconda3\\lib\\site-packages\\sklearn\\pipeline.py\", line 754, in _fit_transform_one\n",
      "    res = transformer.fit_transform(X, y, **fit_params)\n",
      "  File \"C:\\Users\\lxk200008\\Anaconda3\\lib\\site-packages\\sklearn\\base.py\", line 702, in fit_transform\n",
      "    return self.fit(X, y, **fit_params).transform(X)\n",
      "  File \"C:\\Users\\lxk200008\\Anaconda3\\lib\\site-packages\\sklearn\\preprocessing\\_data.py\", line 1810, in transform\n",
      "    XP[:, current_col:current_col + n_features] = X\n",
      "ValueError: could not broadcast input array from shape (1194,70) into shape (1194,0)\n",
      "\n",
      "  warnings.warn(\"Estimator fit failed. The score on this train-test\"\n",
      "C:\\Users\\lxk200008\\Anaconda3\\lib\\site-packages\\sklearn\\model_selection\\_validation.py:610: FitFailedWarning: Estimator fit failed. The score on this train-test partition for these parameters will be set to nan. Details: \n",
      "Traceback (most recent call last):\n",
      "  File \"C:\\Users\\lxk200008\\Anaconda3\\lib\\site-packages\\sklearn\\model_selection\\_validation.py\", line 593, in _fit_and_score\n",
      "    estimator.fit(X_train, y_train, **fit_params)\n",
      "  File \"C:\\Users\\lxk200008\\Anaconda3\\lib\\site-packages\\sklearn\\pipeline.py\", line 341, in fit\n",
      "    Xt = self._fit(X, y, **fit_params_steps)\n",
      "  File \"C:\\Users\\lxk200008\\Anaconda3\\lib\\site-packages\\sklearn\\pipeline.py\", line 303, in _fit\n",
      "    X, fitted_transformer = fit_transform_one_cached(\n",
      "  File \"C:\\Users\\lxk200008\\Anaconda3\\lib\\site-packages\\joblib\\memory.py\", line 352, in __call__\n",
      "    return self.func(*args, **kwargs)\n",
      "  File \"C:\\Users\\lxk200008\\Anaconda3\\lib\\site-packages\\sklearn\\pipeline.py\", line 754, in _fit_transform_one\n",
      "    res = transformer.fit_transform(X, y, **fit_params)\n",
      "  File \"C:\\Users\\lxk200008\\Anaconda3\\lib\\site-packages\\sklearn\\base.py\", line 702, in fit_transform\n",
      "    return self.fit(X, y, **fit_params).transform(X)\n",
      "  File \"C:\\Users\\lxk200008\\Anaconda3\\lib\\site-packages\\sklearn\\preprocessing\\_data.py\", line 1810, in transform\n",
      "    XP[:, current_col:current_col + n_features] = X\n",
      "ValueError: could not broadcast input array from shape (1194,70) into shape (1194,0)\n",
      "\n",
      "  warnings.warn(\"Estimator fit failed. The score on this train-test\"\n",
      "C:\\Users\\lxk200008\\Anaconda3\\lib\\site-packages\\sklearn\\model_selection\\_validation.py:610: FitFailedWarning: Estimator fit failed. The score on this train-test partition for these parameters will be set to nan. Details: \n",
      "Traceback (most recent call last):\n",
      "  File \"C:\\Users\\lxk200008\\Anaconda3\\lib\\site-packages\\sklearn\\model_selection\\_validation.py\", line 593, in _fit_and_score\n",
      "    estimator.fit(X_train, y_train, **fit_params)\n",
      "  File \"C:\\Users\\lxk200008\\Anaconda3\\lib\\site-packages\\sklearn\\pipeline.py\", line 341, in fit\n",
      "    Xt = self._fit(X, y, **fit_params_steps)\n",
      "  File \"C:\\Users\\lxk200008\\Anaconda3\\lib\\site-packages\\sklearn\\pipeline.py\", line 303, in _fit\n",
      "    X, fitted_transformer = fit_transform_one_cached(\n",
      "  File \"C:\\Users\\lxk200008\\Anaconda3\\lib\\site-packages\\joblib\\memory.py\", line 352, in __call__\n",
      "    return self.func(*args, **kwargs)\n",
      "  File \"C:\\Users\\lxk200008\\Anaconda3\\lib\\site-packages\\sklearn\\pipeline.py\", line 754, in _fit_transform_one\n",
      "    res = transformer.fit_transform(X, y, **fit_params)\n",
      "  File \"C:\\Users\\lxk200008\\Anaconda3\\lib\\site-packages\\sklearn\\base.py\", line 702, in fit_transform\n",
      "    return self.fit(X, y, **fit_params).transform(X)\n",
      "  File \"C:\\Users\\lxk200008\\Anaconda3\\lib\\site-packages\\sklearn\\preprocessing\\_data.py\", line 1810, in transform\n",
      "    XP[:, current_col:current_col + n_features] = X\n",
      "ValueError: could not broadcast input array from shape (1194,70) into shape (1194,0)\n",
      "\n",
      "  warnings.warn(\"Estimator fit failed. The score on this train-test\"\n",
      "C:\\Users\\lxk200008\\Anaconda3\\lib\\site-packages\\sklearn\\model_selection\\_search.py:918: UserWarning: One or more of the test scores are non-finite: [            nan -7.20409816e+30 -7.94426772e+24]\n",
      "  warnings.warn(\n"
     ]
    },
    {
     "name": "stdout",
     "output_type": "stream",
     "text": [
      "{'polynomialfeatures__degree': 2}\n"
     ]
    }
   ],
   "source": [
    "from sklearn.pipeline import make_pipeline\n",
    "def PolynomialRegression(degree=2, **kwargs):\n",
    "    return make_pipeline(PolynomialFeatures(degree), LinearRegression(**kwargs))\n",
    "param = {'polynomialfeatures__degree': np.arange(3)}\n",
    "model3 = GridSearchCV(PolynomialRegression(), param, cv=5, scoring='neg_mean_squared_error')\n",
    "model3.fit(X_train, y_train)\n",
    "best = model3.best_params_\n",
    "print(model3.best_params_)"
   ]
  },
  {
   "cell_type": "code",
   "execution_count": 143,
   "id": "3db8955f",
   "metadata": {},
   "outputs": [
    {
     "name": "stdout",
     "output_type": "stream",
     "text": [
      "Train score: 0.9886835691795695\n",
      "Test score: -8536824552463063.0\n"
     ]
    }
   ],
   "source": [
    "poly = PolynomialFeatures(degree = 2)\n",
    "X_train_poly = poly.fit_transform(X_train)\n",
    "X_test_poly = poly.transform(X_test)\n",
    "lreg1 = LinearRegression()\n",
    "lreg1.fit(X_train_poly, y_train)\n",
    "pred_poly=lreg1.predict(X_test_poly)\n",
    "print('Train score: {}'.format(lreg1.score(X_train_poly, y_train)))\n",
    "print('Test score: {}'.format(lreg1.score(X_test_poly,y_test)))\n"
   ]
  },
  {
   "cell_type": "code",
   "execution_count": 115,
   "id": "f8217043",
   "metadata": {},
   "outputs": [
    {
     "name": "stdout",
     "output_type": "stream",
     "text": [
      "Mean cross-validation training score (5-fold): -23899840096519680.0000\n",
      "Mean cross-validation testing score (5-fold): -29.4593\n"
     ]
    }
   ],
   "source": [
    "cv_scores = cross_val_score(lreg, X_train_poly, y_train,cv = 5)\n",
    "cv_test_scores = cross_val_score(lreg, X_test_poly, y_test,cv = 5)\n",
    "print('Mean cross-validation training score (5-fold): {:.4f}'.format(np.mean(cv_scores)))\n",
    "print('Mean cross-validation testing score (5-fold): {:.4f}'.format(np.mean(cv_test_scores)))"
   ]
  },
  {
   "cell_type": "markdown",
   "id": "38a5c6c1",
   "metadata": {},
   "source": [
    "Polynomial regression seems inappropriate with incorrect test scores, RMSE and cross validation scores"
   ]
  },
  {
   "cell_type": "markdown",
   "id": "7a400e55",
   "metadata": {},
   "source": [
    "# KNN Regression"
   ]
  },
  {
   "cell_type": "code",
   "execution_count": 116,
   "id": "fc41e573",
   "metadata": {},
   "outputs": [
    {
     "data": {
      "text/plain": [
       "Text(0, 0.5, 'MSE')"
      ]
     },
     "execution_count": 116,
     "metadata": {},
     "output_type": "execute_result"
    },
    {
     "data": {
      "image/png": "[encoded data removed]",
      "text/plain": [
       "<Figure size 432x288 with 1 Axes>"
      ]
     },
     "metadata": {
      "needs_background": "light"
     },
     "output_type": "display_data"
    }
   ],
   "source": [
    "from sklearn.neighbors import KNeighborsRegressor\n",
    "%matplotlib inline\n",
    "train_score_array = []\n",
    "test_score_array = []\n",
    "for k in range(1,20):\n",
    "    knn_reg = KNeighborsRegressor(k)\n",
    "    knn_reg.fit(X_train, y_train)\n",
    "    train_score_array.append(knn_reg.score(X_train, y_train))\n",
    "    test_score_array.append(knn_reg.score(X_test, y_test))\n",
    "x_axis = range(1,20)\n",
    "plt.plot(x_axis, train_score_array, c = 'g', label = 'Train Score')\n",
    "plt.plot(x_axis, test_score_array, c = 'b', label = 'Test Score')\n",
    "plt.legend()\n",
    "plt.xlabel('k')\n",
    "plt.ylabel('MSE')"
   ]
  },
  {
   "cell_type": "code",
   "execution_count": 124,
   "id": "3d124821",
   "metadata": {},
   "outputs": [
    {
     "name": "stdout",
     "output_type": "stream",
     "text": [
      "Train score: 0.6555\n",
      "Test score: 0.6131\n"
     ]
    }
   ],
   "source": [
    "model4= KNeighborsRegressor(8)\n",
    "model4.fit(X_train, y_train)\n",
    "print('Train score: {:.4f}'.format(model4.score(X_train, y_train)))\n",
    "print('Test score: {:.4f}'.format(model4.score(X_test, y_test)))"
   ]
  },
  {
   "cell_type": "code",
   "execution_count": 117,
   "id": "d37b0c1a",
   "metadata": {},
   "outputs": [
    {
     "data": {
      "text/plain": [
       "{'n_neighbors': 3, 'weights': 'distance'}"
      ]
     },
     "execution_count": 117,
     "metadata": {},
     "output_type": "execute_result"
    }
   ],
   "source": [
    "#Grid Search for tuning parameters\n",
    "params = {'n_neighbors':range(1,15),'weights': ['distance','uniform']}\n",
    "model = GridSearchCV(knn_reg, params)\n",
    "model.fit(X_train,y_train)\n",
    "model.best_params_"
   ]
  },
  {
   "cell_type": "code",
   "execution_count": 154,
   "id": "f6c50991",
   "metadata": {},
   "outputs": [
    {
     "name": "stdout",
     "output_type": "stream",
     "text": [
      "Train score: 1.0\n",
      "Test score: 0.2448023064004129\n",
      "Mean cross-validation training score (5-fold): 0.6915\n",
      "Mean cross-validation testing score (5-fold): 0.4433\n"
     ]
    }
   ],
   "source": [
    "#Cross validation\n",
    "knnr = KNeighborsRegressor(n_neighbors = 3, weights = 'distance')\n",
    "knnr.fit(X_train, y_train)\n",
    "knnr_pred=knnr.predict(X_test)\n",
    "\n",
    "print('Train score: {}'.format(knnr.score(X_train, y_train)))\n",
    "print('Test score: {}'.format(knnr.score(X_test,y_test)))\n",
    "\n",
    "cv_scores = cross_val_score(knnr, X_train, y_train,cv = 5)\n",
    "cv_test_scores = cross_val_score(knnr, X_test, y_test,cv = 5)\n",
    "print('Mean cross-validation training score (5-fold): {:.4f}'.format(np.mean(cv_scores)))\n",
    "print('Mean cross-validation testing score (5-fold): {:.4f}'.format(np.mean(cv_test_scores)))"
   ]
  },
  {
   "cell_type": "markdown",
   "id": "97f9727a",
   "metadata": {},
   "source": [
    "# SGD Regression"
   ]
  },
  {
   "cell_type": "code",
   "execution_count": 125,
   "id": "86162698",
   "metadata": {},
   "outputs": [
    {
     "name": "stdout",
     "output_type": "stream",
     "text": [
      "0.8045342846309248\n",
      "0.5650347553008694\n"
     ]
    },
    {
     "name": "stderr",
     "output_type": "stream",
     "text": [
      "C:\\Users\\lxk200008\\Anaconda3\\lib\\site-packages\\sklearn\\linear_model\\_stochastic_gradient.py:1220: ConvergenceWarning: Maximum number of iteration reached before convergence. Consider increasing max_iter to improve the fit.\n",
      "  warnings.warn(\"Maximum number of iteration reached before \"\n"
     ]
    }
   ],
   "source": [
    "from sklearn.linear_model import SGDRegressor\n",
    "\n",
    "sgd = SGDRegressor(random_state= 0, max_iter = 1000, learning_rate = 'constant', eta0 = 0.05, shuffle = False)\n",
    "sgd.fit(X_train, y_train)\n",
    "print(sgd.score(X_train, y_train))\n",
    "print(sgd.score(X_test, y_test))"
   ]
  },
  {
   "cell_type": "code",
   "execution_count": 142,
   "id": "b82781a9",
   "metadata": {},
   "outputs": [
    {
     "name": "stderr",
     "output_type": "stream",
     "text": [
      "C:\\Users\\lxk200008\\Anaconda3\\lib\\site-packages\\sklearn\\linear_model\\_stochastic_gradient.py:1220: ConvergenceWarning: Maximum number of iteration reached before convergence. Consider increasing max_iter to improve the fit.\n",
      "  warnings.warn(\"Maximum number of iteration reached before \"\n"
     ]
    },
    {
     "name": "stdout",
     "output_type": "stream",
     "text": [
      "Train score: 0.28130866591857273\n",
      "Test score: 0.5502649900092689\n"
     ]
    },
    {
     "name": "stderr",
     "output_type": "stream",
     "text": [
      "C:\\Users\\lxk200008\\Anaconda3\\lib\\site-packages\\sklearn\\linear_model\\_stochastic_gradient.py:1220: ConvergenceWarning: Maximum number of iteration reached before convergence. Consider increasing max_iter to improve the fit.\n",
      "  warnings.warn(\"Maximum number of iteration reached before \"\n",
      "C:\\Users\\lxk200008\\Anaconda3\\lib\\site-packages\\sklearn\\linear_model\\_stochastic_gradient.py:1220: ConvergenceWarning: Maximum number of iteration reached before convergence. Consider increasing max_iter to improve the fit.\n",
      "  warnings.warn(\"Maximum number of iteration reached before \"\n",
      "C:\\Users\\lxk200008\\Anaconda3\\lib\\site-packages\\sklearn\\linear_model\\_stochastic_gradient.py:1220: ConvergenceWarning: Maximum number of iteration reached before convergence. Consider increasing max_iter to improve the fit.\n",
      "  warnings.warn(\"Maximum number of iteration reached before \"\n",
      "C:\\Users\\lxk200008\\Anaconda3\\lib\\site-packages\\sklearn\\linear_model\\_stochastic_gradient.py:1220: ConvergenceWarning: Maximum number of iteration reached before convergence. Consider increasing max_iter to improve the fit.\n",
      "  warnings.warn(\"Maximum number of iteration reached before \"\n",
      "C:\\Users\\lxk200008\\Anaconda3\\lib\\site-packages\\sklearn\\linear_model\\_stochastic_gradient.py:1220: ConvergenceWarning: Maximum number of iteration reached before convergence. Consider increasing max_iter to improve the fit.\n",
      "  warnings.warn(\"Maximum number of iteration reached before \"\n",
      "C:\\Users\\lxk200008\\Anaconda3\\lib\\site-packages\\sklearn\\linear_model\\_stochastic_gradient.py:1220: ConvergenceWarning: Maximum number of iteration reached before convergence. Consider increasing max_iter to improve the fit.\n",
      "  warnings.warn(\"Maximum number of iteration reached before \"\n",
      "C:\\Users\\lxk200008\\Anaconda3\\lib\\site-packages\\sklearn\\linear_model\\_stochastic_gradient.py:1220: ConvergenceWarning: Maximum number of iteration reached before convergence. Consider increasing max_iter to improve the fit.\n",
      "  warnings.warn(\"Maximum number of iteration reached before \"\n",
      "C:\\Users\\lxk200008\\Anaconda3\\lib\\site-packages\\sklearn\\linear_model\\_stochastic_gradient.py:1220: ConvergenceWarning: Maximum number of iteration reached before convergence. Consider increasing max_iter to improve the fit.\n",
      "  warnings.warn(\"Maximum number of iteration reached before \"\n",
      "C:\\Users\\lxk200008\\Anaconda3\\lib\\site-packages\\sklearn\\linear_model\\_stochastic_gradient.py:1220: ConvergenceWarning: Maximum number of iteration reached before convergence. Consider increasing max_iter to improve the fit.\n",
      "  warnings.warn(\"Maximum number of iteration reached before \"\n"
     ]
    },
    {
     "name": "stdout",
     "output_type": "stream",
     "text": [
      "Mean cross-validation training score (5-fold): 0.3621\n",
      "Mean cross-validation testing score (5-fold): 0.5051\n"
     ]
    },
    {
     "name": "stderr",
     "output_type": "stream",
     "text": [
      "C:\\Users\\lxk200008\\Anaconda3\\lib\\site-packages\\sklearn\\linear_model\\_stochastic_gradient.py:1220: ConvergenceWarning: Maximum number of iteration reached before convergence. Consider increasing max_iter to improve the fit.\n",
      "  warnings.warn(\"Maximum number of iteration reached before \"\n"
     ]
    }
   ],
   "source": [
    "sgd = SGDRegressor(alpha= 0.0001, learning_rate= 'optimal', loss= 'epsilon_insensitive', max_iter= 10000, penalty= 'l1', tol= 0.0001)\n",
    "sgd.fit(X_train, y_train)\n",
    "pred_sgd = sgd.predict(X_test)\n",
    "#Train and Test score\n",
    "print('Train score: {}'.format(sgd.score(X_train, y_train)))\n",
    "print('Test score: {}'.format(sgd.score(X_test,y_test)))\n",
    "# Average Cross Validation scores\n",
    "cv_scores = cross_val_score(sgd, X_train, y_train,cv = 5)\n",
    "cv_test_scores = cross_val_score(sgd,X_test, y_test,cv = 5)\n",
    "print('Mean cross-validation training score (5-fold): {:.4f}'.format(np.mean(cv_scores)))\n",
    "print('Mean cross-validation testing score (5-fold): {:.4f}'.format(np.mean(cv_test_scores)))\n"
   ]
  },
  {
   "cell_type": "markdown",
   "id": "39760e6f",
   "metadata": {},
   "source": [
    "# Decision Tree Regressor"
   ]
  },
  {
   "cell_type": "code",
   "execution_count": 128,
   "id": "19895e61",
   "metadata": {},
   "outputs": [],
   "source": [
    "from sklearn.tree import DecisionTreeRegressor\n",
    "train_accuracy_score_dtr=[]\n",
    "test_accuracy_score_dtr=[]\n",
    "\n",
    "depth=[2,3,5,10,25]\n",
    "for i in depth:\n",
    "    \n",
    "    dtr=DecisionTreeRegressor(max_depth=i,random_state=0)\n",
    "    dtr.fit(X_train,y_train)\n",
    "    train_accuracy_score_dtr.append(dtr.score(X_train,y_train))\n",
    "    test_accuracy_score_dtr.append(dtr.score(X_test,y_test))"
   ]
  },
  {
   "cell_type": "code",
   "execution_count": 129,
   "id": "9b006e70",
   "metadata": {},
   "outputs": [
    {
     "data": {
      "text/plain": [
       "Text(0, 0.5, 'Accuracy')"
      ]
     },
     "execution_count": 129,
     "metadata": {},
     "output_type": "execute_result"
    },
    {
     "data": {
      "image/png": "[encoded data removed]",
      "text/plain": [
       "<Figure size 1440x360 with 1 Axes>"
      ]
     },
     "metadata": {
      "needs_background": "light"
     },
     "output_type": "display_data"
    }
   ],
   "source": [
    "plt.subplots(figsize=(20,5))\n",
    "plt.plot(depth, train_accuracy_score_dtr, label=\"Train Score\")\n",
    "plt.plot(depth, test_accuracy_score_dtr, label=\"Test Score\")\n",
    "plt.legend()\n",
    "plt.xlabel(\"Max Depth\")\n",
    "plt.ylabel(\"Accuracy\")"
   ]
  },
  {
   "cell_type": "code",
   "execution_count": 130,
   "id": "670d22e1",
   "metadata": {},
   "outputs": [
    {
     "data": {
      "text/plain": [
       "0.27231001898685203"
      ]
     },
     "execution_count": 130,
     "metadata": {},
     "output_type": "execute_result"
    }
   ],
   "source": [
    "dtr_max2 = DecisionTreeRegressor(random_state=0, max_depth=2)\n",
    "dtr_max2.fit(X_train,y_train)\n",
    "dtr_max2.score(X_test,y_test)"
   ]
  },
  {
   "cell_type": "code",
   "execution_count": 155,
   "id": "4185c3d1",
   "metadata": {},
   "outputs": [
    {
     "data": {
      "text/plain": [
       "0.6091367101453469"
      ]
     },
     "execution_count": 155,
     "metadata": {},
     "output_type": "execute_result"
    }
   ],
   "source": [
    "dtr_max2.score(X_train,y_train)"
   ]
  },
  {
   "cell_type": "markdown",
   "id": "80834eeb",
   "metadata": {},
   "source": [
    "# Simple SVM"
   ]
  },
  {
   "cell_type": "code",
   "execution_count": 131,
   "id": "45037d37",
   "metadata": {},
   "outputs": [
    {
     "name": "stdout",
     "output_type": "stream",
     "text": [
      "-0.956980191745384\n",
      "-1.7501318363301257\n"
     ]
    }
   ],
   "source": [
    "#### Linear SVR\n",
    "from sklearn.svm import LinearSVR\n",
    "li_svc = LinearSVR()\n",
    "li_svc.fit(X_train,y_train)\n",
    "print(li_svc.score(X_train, y_train))\n",
    "print(li_svc.score(X_test, y_test))"
   ]
  },
  {
   "cell_type": "code",
   "execution_count": 132,
   "id": "1fbca16a",
   "metadata": {},
   "outputs": [
    {
     "name": "stdout",
     "output_type": "stream",
     "text": [
      "Best score: -3.0670037728872317\n",
      "Best C: 10\n"
     ]
    }
   ],
   "source": [
    "# Grid search\n",
    "from sklearn.model_selection import GridSearchCV\n",
    "param_linear = [{'C': [0.001,0.01,1,10]}]\n",
    "li_svc = GridSearchCV(estimator=LinearSVR(), param_grid=param_linear, n_jobs=-1,cv=3)\n",
    "li_svc.fit(X_train, y_train)\n",
    "pred_li_svc=li_svc.predict(X_train, y_train)\n",
    "# Best score\n",
    "print('Best score:', li_svc.best_score_)\n",
    "# Best parameters\n",
    "print('Best C:',li_svc.best_estimator_.C)"
   ]
  },
  {
   "cell_type": "code",
   "execution_count": 133,
   "id": "1672df1c",
   "metadata": {},
   "outputs": [
    {
     "name": "stdout",
     "output_type": "stream",
     "text": [
      "Train score: 0.03915171319844324\n",
      "Test score: 0.13624250832616724\n"
     ]
    }
   ],
   "source": [
    "#Model with best parameters\n",
    "li_svc1 = LinearSVR(C=10)\n",
    "li_svc1.fit(X_train, y_train)\n",
    "pred_li_svc1=li_svc1.predict(X_test)\n",
    "print('Train score: {}'.format(li_svc1.score(X_train, y_train)))\n",
    "print('Test score: {}'.format(li_svc1.score(X_test,y_test)))"
   ]
  },
  {
   "cell_type": "code",
   "execution_count": 134,
   "id": "c7ded5f2",
   "metadata": {},
   "outputs": [
    {
     "name": "stdout",
     "output_type": "stream",
     "text": [
      "Mean cross-validation training score (3-fold): -0.0585\n",
      "Mean cross-validation testing score (3-fold): -0.8550\n"
     ]
    }
   ],
   "source": [
    "# Cross Validation\n",
    "cv_scores = cross_val_score(li_svc1, X_train, y_train,cv = 3)\n",
    "cv_test_scores = cross_val_score(li_svc1, X_test, y_test,cv = 3)\n",
    "#Average corss validation scores\n",
    "print('Mean cross-validation training score (3-fold): {:.4f}'.format(np.mean(cv_scores)))\n",
    "print('Mean cross-validation testing score (3-fold): {:.4f}'.format(np.mean(cv_test_scores)))"
   ]
  },
  {
   "cell_type": "markdown",
   "id": "485acfa2",
   "metadata": {},
   "source": [
    "# SVM with kernel Linear"
   ]
  },
  {
   "cell_type": "code",
   "execution_count": 135,
   "id": "e3eff637",
   "metadata": {},
   "outputs": [
    {
     "name": "stdout",
     "output_type": "stream",
     "text": [
      "Best C: 0.001\n",
      "Best Gamma: 0.001\n",
      "Best Epsilon: 0.1\n"
     ]
    }
   ],
   "source": [
    "from sklearn import svm\n",
    "from sklearn.svm import SVR\n",
    "param = [{'C': [0.001,0.01,1, 10],'gamma': [0.001, 0.01,0.1,1],'epsilon':[0.1,0.2,0.5,0.3]}]\n",
    "svm_klf = GridSearchCV(estimator=svm.SVR(kernel='linear'), param_grid=param, n_jobs=-1,cv=3)\n",
    "svm_klf.fit(X_train, y_train)   \n",
    "#Best parameters\n",
    "print('Best C:',svm_klf.best_estimator_.C) \n",
    "print('Best Gamma:',svm_klf.best_estimator_.gamma)\n",
    "print('Best Epsilon:',svm_klf.best_estimator_.epsilon)\n",
    "best = [svm_klf.best_estimator_]"
   ]
  },
  {
   "cell_type": "code",
   "execution_count": 136,
   "id": "ca7da70c",
   "metadata": {},
   "outputs": [
    {
     "name": "stdout",
     "output_type": "stream",
     "text": [
      "Train score: -0.026256464887366215\n",
      "Test score: -0.03261639784425974\n",
      "Mean cross-validation training score (5-fold): -0.0306\n",
      "Mean cross-validation testing score (5-fold): -0.0375\n"
     ]
    }
   ],
   "source": [
    "#Model with best parameters\n",
    "svm_klf = SVR(kernel = 'linear', gamma =0.001,C=0.001,epsilon = 0.1 )\n",
    "svm_klf.fit(X_train, y_train)\n",
    "pred_svm_klf=svm_klf.predict(X_test)\n",
    "\n",
    "print('Train score: {}'.format(svm_klf.score(X_train, y_train)))\n",
    "print('Test score: {}'.format(svm_klf.score(X_test,y_test)))\n",
    "\n",
    "#Cross Validation\n",
    "cv_scores = cross_val_score(svm_klf, X_train, y_train,cv = 5)\n",
    "cv_test_scores = cross_val_score(svm_klf, X_test, y_test,cv = 5)\n",
    "print('Mean cross-validation training score (5-fold): {:.4f}'.format(np.mean(cv_scores)))\n",
    "print('Mean cross-validation testing score (5-fold): {:.4f}'.format(np.mean(cv_test_scores)))"
   ]
  },
  {
   "cell_type": "markdown",
   "id": "14d542ec",
   "metadata": {},
   "source": [
    "# SVM with Kernel Poly"
   ]
  },
  {
   "cell_type": "code",
   "execution_count": 137,
   "id": "a6f2cd37",
   "metadata": {},
   "outputs": [
    {
     "name": "stdout",
     "output_type": "stream",
     "text": [
      "Best score 0.4955817025722262\n",
      "Best C: 10\n",
      "Best Gamma: 1\n",
      "Best Epsilon: 0.5\n"
     ]
    }
   ],
   "source": [
    "from sklearn import svm\n",
    "poly = [{'C': [0.001,0.01,1, 10],'gamma': [0.001, 0.01,0.1,1],'epsilon':[0.1,0.2,0.5,0.3]}]\n",
    "svm_poly = GridSearchCV(estimator=svm.SVR(kernel='poly'), param_grid= poly, n_jobs=-1,cv=3)\n",
    "svm_poly.fit(X_train, y_train)   \n",
    "#best score\n",
    "print('Best score', svm_poly.best_score_) \n",
    "\n",
    "# Best parameters\n",
    "print('Best C:',svm_poly.best_estimator_.C) \n",
    "print('Best Gamma:',svm_poly.best_estimator_.gamma)\n",
    "print('Best Epsilon:',svm_poly.best_estimator_.epsilon)\n",
    "best = [svm_poly.best_estimator_]"
   ]
  },
  {
   "cell_type": "code",
   "execution_count": 138,
   "id": "3f3cc5ec",
   "metadata": {},
   "outputs": [
    {
     "name": "stdout",
     "output_type": "stream",
     "text": [
      "Train score: 0.5322526181759912\n",
      "Test score: 0.7992511281616599\n",
      "Mean cross-validation training score (5-fold): 0.5699\n",
      "Mean cross-validation testing score (5-fold): 0.6431\n"
     ]
    }
   ],
   "source": [
    "#Model with best parameters\n",
    "svm_poly = SVR(kernel = 'poly', gamma =1,C=10,epsilon = 0.5 )\n",
    "svm_poly.fit(X_train, y_train)\n",
    "pred_svm_poly=svm_poly.predict(X_test)\n",
    "print('Train score: {}'.format(svm_poly.score(X_train, y_train)))\n",
    "print('Test score: {}'.format(svm_poly.score(X_test,y_test)))\n",
    "\n",
    "#Cross Validation\n",
    "cv_scores = cross_val_score(svm_poly, X_train, y_train,cv = 5)\n",
    "cv_test_scores = cross_val_score(svm_poly, X_test, y_test,cv = 5)\n",
    "print('Mean cross-validation training score (5-fold): {:.4f}'.format(np.mean(cv_scores)))\n",
    "print('Mean cross-validation testing score (5-fold): {:.4f}'.format(np.mean(cv_test_scores)))"
   ]
  },
  {
   "cell_type": "markdown",
   "id": "3e6e5641",
   "metadata": {},
   "source": [
    "# SVM with Kernel rbf"
   ]
  },
  {
   "cell_type": "code",
   "execution_count": 139,
   "id": "d22fb80e",
   "metadata": {},
   "outputs": [
    {
     "name": "stdout",
     "output_type": "stream",
     "text": [
      "Best score -0.016420081184955453\n",
      "Best C: 10\n",
      "Best Gamma: 0.1\n",
      "Best Epsilon: 0.5\n"
     ]
    }
   ],
   "source": [
    "from sklearn import svm\n",
    "rbf = [{'C': [0.001,0.01,1, 10],'gamma': [0.001, 0.01,0.1,1],'epsilon':[0.1,0.2,0.5,0.3]}]\n",
    "rbf = GridSearchCV(estimator=svm.SVR(kernel='rbf'), param_grid=rbf, n_jobs=-1,cv=3)\n",
    "rbf.fit(X_train, y_train)   \n",
    "# Best score\n",
    "print('Best score', rbf.best_score_) \n",
    "\n",
    "# View the best parameters for the model found using grid search\n",
    "print('Best C:',rbf.best_estimator_.C) \n",
    "print('Best Gamma:',rbf.best_estimator_.gamma)\n",
    "print('Best Epsilon:',rbf.best_estimator_.epsilon)\n",
    "best = [rbf.best_estimator_]"
   ]
  },
  {
   "cell_type": "code",
   "execution_count": 140,
   "id": "af869ad3",
   "metadata": {},
   "outputs": [
    {
     "name": "stdout",
     "output_type": "stream",
     "text": [
      "Train score: -0.006676091956987262\n",
      "Test score: 0.00510927999387456\n",
      "Mean cross-validation training score (5-fold): -0.0105\n",
      "Mean cross-validation testing score (5-fold): -0.0274\n"
     ]
    }
   ],
   "source": [
    "rbf= SVR(kernel = 'rbf', gamma =0.1,C=10,epsilon = 0.5)\n",
    "rbf.fit(X_train, y_train)\n",
    "pred_rbf=rbf.predict(X_test)\n",
    "print('Train score: {}'.format(rbf.score(X_train, y_train)))\n",
    "print('Test score: {}'.format(rbf.score(X_test,y_test)))\n",
    "\n",
    "#Cross Validation\n",
    "cv_scores = cross_val_score(rbf, X_train, y_train,cv = 5)\n",
    "cv_test_scores = cross_val_score(rbf, X_test, y_test,cv = 5)\n",
    "print('Mean cross-validation training score (5-fold): {:.4f}'.format(np.mean(cv_scores)))\n",
    "print('Mean cross-validation testing score (5-fold): {:.4f}'.format(np.mean(cv_test_scores)))\n"
   ]
  },
  {
   "cell_type": "markdown",
   "id": "3a1b67e6",
   "metadata": {},
   "source": [
    "# Train and Test scores of different models."
   ]
  },
  {
   "cell_type": "markdown",
   "id": "a83560a0",
   "metadata": {},
   "source": [
    "    Linear Regression\n",
    "train:  0.8283053922174043\n",
    "test:  -3.0051744001610107e+18\n",
    " \n",
    "    Lasso Regression\n",
    "Train Score: 0.7961359742449912\n",
    "Test Score : 0.6520740310554958    \n",
    "     \n",
    "     Ridge Regression\n",
    "Train Score: 0.8159928430420808\n",
    "Test Score : 0.6538972950916553\n",
    "\n",
    "    Polynomial\n",
    "Train score: 0.9886835691795695\n",
    "Test score: -8536824552463063.0\n",
    "\n",
    "    KNN\n",
    "Train score: 1.0\n",
    "Test score: 0.2448023064004129\n",
    "    \n",
    "    Decision Tree\n",
    " \n",
    "Train : 0.6091367101453469\n",
    "Test 0.27231001898685203\n",
    "    \n",
    " \n",
    "    SGD\n",
    "Train score: 0.28130866591857273\n",
    "Test score: 0.5502649900092689\n",
    "    \n",
    "    SVM\n",
    "Train score: 0.03915171319844324\n",
    "Test score: 0.13624250832616724\n",
    "    \n",
    "    SVM Linear\n",
    "Train score: -0.026256464887366215\n",
    "Test score: -0.03261639784425974\n",
    "    \n",
    "    SVM Poly\n",
    "Train score: 0.5322526181759912\n",
    "Test score: 0.7992511281616599\n",
    "    \n",
    "    SVM rbf\n",
    "Train score: -0.006676091956987262\n",
    "Test score: 0.00510927999387456\n",
    "\n",
    "   \n",
    "   "
   ]
  },
  {
   "cell_type": "markdown",
   "id": "3b409ac4",
   "metadata": {},
   "source": [
    "Based on train and test accuracies  and least RMSE value, Lasso Regression is the best model"
   ]
  },
  {
   "cell_type": "code",
   "execution_count": 157,
   "id": "a97758e6",
   "metadata": {},
   "outputs": [
    {
     "data": {
      "text/plain": [
       "array([ 30519.2994828 ,  20773.52717945,  48224.29336163,  32137.23808929,\n",
       "        13892.94882604,  16501.26888302,  38107.38062245,  34022.35647643,\n",
       "        42147.93226198,  46410.39406365,   2439.63605235,  23792.88542283,\n",
       "        29291.25594228,  31800.72268587,  22339.14234474,  17219.1260671 ,\n",
       "        53770.24964739,  29628.73410756,  33290.52077611,  31684.23453208,\n",
       "        36201.04624409,  59606.17831918,  36261.55821123,  42159.17401659,\n",
       "        36730.12085286,  30849.16035416,  17319.97085174,  37669.97168372,\n",
       "        26076.93886207,  33529.00664618,  45697.63873263,  31571.6052075 ,\n",
       "         3474.60552248,  11772.42811617,  41423.45652545,  44915.2572807 ,\n",
       "         3188.30486257,  16264.75342982,  11612.3200368 ,  33832.17778654,\n",
       "        46024.46594879,  44871.83402394,  19070.92512451,  24648.57230721,\n",
       "        17121.94310322,  13879.33242486,  48143.57063022,  57859.02911241,\n",
       "        61992.91229712,  15559.6458064 ,  19941.42538906,  55801.62726903,\n",
       "        15502.52595884,  26334.43766484,  23350.87646459,  12202.36531677,\n",
       "        33176.9500067 ,  54778.18201294,  16078.7583807 ,  41054.78006548,\n",
       "        22369.51435735,  31684.08540224,  53360.08789128,  30461.94972271,\n",
       "        21851.51394064,  28165.47490581,  19023.53399871,  27934.35576949,\n",
       "        49112.47788485,  13799.50249154,  27859.59291618,  24995.85090893,\n",
       "        33478.03576276,  66936.69419979,  42332.40511192,  28975.90572151,\n",
       "        11446.01659628,  24536.0225101 ,  20957.6837981 ,  26887.25766372,\n",
       "        43569.83093086,  48143.63028216,  28945.86887595,  21058.66621005,\n",
       "        24778.87952642,  19556.60230366,   8648.89319486,  33691.42493831,\n",
       "        64370.16327241,   9475.78369768,  49978.22369056,  26965.38394184,\n",
       "        28726.82095433,  48465.15336821,  31684.20470611,  18100.09780965,\n",
       "        49972.14944329,  20983.13857879,  14126.65583511,  14645.79212743,\n",
       "         7179.29096927,  17534.359994  ,  15944.00165446,  58155.05083308,\n",
       "        32101.29078302,  38562.70212475,  32620.63691024,  26113.26532099,\n",
       "        12231.39353231,  13980.45464921,  23743.71110656,  16278.79049474,\n",
       "        30866.37136028,  42235.01499551,  18661.39112376,  32727.85330104,\n",
       "        17303.59732617,  41749.35713106,  13339.9089578 ,  20465.85621417,\n",
       "        11649.34473778,  48203.166117  ,  26977.88311649,  40666.3609552 ,\n",
       "        14910.08934388,  28247.75988481,  27464.73754132,  28946.01800579,\n",
       "        26685.16315797,  24164.54659376,  38774.60218878,  -1205.86686825,\n",
       "        35794.64778184,  12942.41745901,  33478.12524066,  15714.55260673,\n",
       "        39627.47729521,  28267.04708399,  11030.59375926,  30849.3989619 ,\n",
       "        32769.30204525,  26076.998514  ,  38067.84047003,  42289.63127586,\n",
       "        46374.18465789,  18868.78387756,  32123.89680201,  37466.92246192,\n",
       "        24180.48379186,  31651.90922199,  22199.27916713,  42833.41466376,\n",
       "        56340.8122724 ,  43112.24393527,  29678.27554597,  47005.92920707,\n",
       "        48143.68993409,  59606.17831918,  26804.91795122,  44498.29190087,\n",
       "        48297.49972118,  35947.40523463,  11308.07812202,  16168.50842113,\n",
       "        12213.80839764,  33352.92944828,  34769.78615065,  28921.071745  ,\n",
       "        41737.96920779,  38127.52118056,   4293.34340291,  25177.13173194,\n",
       "        30658.03207129,  38981.88732173,  40634.50215906,  14931.40099631,\n",
       "        33504.6685563 ,  29556.0845177 ,  23250.70112254,  37239.30541736,\n",
       "        20543.68648548,  25551.80523981,  37098.69255798,  22665.77179279,\n",
       "        31800.72268587,  31547.49855749,  29986.01136546,  35707.56605963,\n",
       "        29738.16524762,  29198.15868572,  31350.67110519,  19605.67445057,\n",
       "        54699.33605255,  52054.69187941,  16039.91525129,   9096.99386973,\n",
       "        40228.54719438,  67810.74874524,  50424.22534126,  41727.45011257,\n",
       "         4866.5354748 ,  54748.35699707,  39750.94362769,  26911.14356179,\n",
       "        32404.7888516 ,  40879.45324287,  14199.72477299,  37711.15464348,\n",
       "        20172.73603855,  22456.95585157,  37002.9198167 ,  38339.60827288,\n",
       "        17914.19368648,  57219.98982439,  32428.32573108,  38579.69845932,\n",
       "        42790.86997905,  20248.10383089,  35342.06418181,  47248.52497356,\n",
       "        26456.79630211,  11273.39691856,  20429.0974841 ,  40523.34961399,\n",
       "        39188.942037  ,  36122.41837554,   4968.93595732,  31877.65204869,\n",
       "        39978.96774927,  46024.52560072,  49233.64515126,  18751.62401989,\n",
       "        22036.2318927 ,  45057.55214016,  16212.91687058,  19295.50583313,\n",
       "         5269.21899695,  20086.9554745 ,  11743.26649868,  38981.88732173,\n",
       "        32499.54514086,  36476.11173984,  27860.60890529,  11227.32488376,\n",
       "        23822.34679942,  24836.64497139,  31085.16355118,  54957.31695628,\n",
       "        24180.42413992,  45240.94887839,  14413.73846037,  12952.15659548,\n",
       "        17621.87019246,  57724.1888857 ,  42751.72825435,  36476.08191388,\n",
       "        47283.95417452,  45484.64237097,  32671.38243112,  30656.54045057,\n",
       "        33477.97611083,  19446.51977287,  57431.08061066,  58534.48992704,\n",
       "        11896.97708278,  37514.49563653,  50450.35567852,  25894.04798802,\n",
       "        13529.16263609,  31159.22412365,  41949.81084984,  26708.84441244,\n",
       "        62178.82294483,  56332.7399694 ,  45058.9543913 ,  56205.4485499 ,\n",
       "        28181.23474294,  32104.87272925,  39054.05101948,  28709.147959  ,\n",
       "        28717.595268  ,  31362.50266425,  13222.7675674 ,  18237.23669552,\n",
       "        13994.0973696 ,  30519.120527  ,  19243.44365081,  44439.52907695,\n",
       "        31362.77109796,  39540.85572338,  11579.0248098 ,  25210.09145743,\n",
       "        79932.22389733,  11368.57826756,  44049.16407829,  56050.31427104,\n",
       "        33156.72145848,  56524.53968315,  30561.20410688,  25436.76292389,\n",
       "          676.94774508,  24777.01854838,  27503.63870566,  39303.23145198,\n",
       "        40788.42539773,  56585.32199342,  17954.01308001,  20366.87615328,\n",
       "        43442.08424491,  46542.20022249,  32727.88312701,   9685.70671187,\n",
       "        28518.32910998,  47513.79991205,  23807.85231786,  22195.28512376,\n",
       "        48143.63028216,  55728.55257724,  12472.29786951,  41120.380826  ,\n",
       "        16915.88103852,  25994.7633646 ,  32769.36169718,  63485.35933804,\n",
       "        11702.08333523,  41649.46446669,  43362.07122115,  22880.92051417,\n",
       "        48216.44984133,  18297.57705311,  30697.1767749 ,   7608.3765586 ,\n",
       "        44042.95590925,   9319.53832816,  26286.80395888,  28247.90901464,\n",
       "        31362.77109796,  16689.6688402 ,  34685.04671551,  49957.74953897,\n",
       "        25389.54652223,  26804.07485082,  51045.07786174,  49344.85291888,\n",
       "        45643.2053514 ,  55271.62190023,  52707.30501759,  67199.45014903,\n",
       "        31866.43870004,  -8826.57958553,  25089.15669737,  28562.54094318,\n",
       "        47756.18104296,  21800.20700836,  42469.06761046,  29924.68456606,\n",
       "        34513.19298239,  28588.48069214,  32137.32756719,  22682.32199451,\n",
       "        17068.05050437,   8504.5077571 ,  27331.34532854,  16581.79387593,\n",
       "        18290.55149774,  31016.47569637,  28283.11111797,  13055.82722364,\n",
       "        25552.13332545,  16232.79885329,  26345.05092173,  14163.24823728,\n",
       "        26977.88311649,  28378.8769514 ,  37550.11305522,  20242.11207343,\n",
       "        13332.13427143,  23995.46352086,  38396.55272528,  42147.93226198,\n",
       "         4186.28085395,  24180.18553219,  22447.4023375 ,  17630.25708484,\n",
       "        16897.63608641,  14072.53966338,  37646.28479437,  28486.878688  ,\n",
       "        59894.5573422 ,  68858.0502255 ,  26339.65383099,  21713.20722656,\n",
       "        10780.57244026,  14714.32766697,  11426.20644426,  33640.89244598,\n",
       "         4850.97715789,  38128.14752587,  44574.26395596,  21327.18481486,\n",
       "        19990.27328286,  24711.12940387,  25825.12275268,  25803.49150579,\n",
       "        30544.96757809,  12041.66044561,  27575.18416926,  22756.93377058,\n",
       "        14350.35600738,  10649.02407491,  38479.50656845,  38963.6174688 ,\n",
       "        13329.61530874,  42289.36284216,   1512.71933954,  15112.23012071,\n",
       "         -263.57744644,  35532.98064904,  25065.86804795,  25401.40417796,\n",
       "        12515.30483214,  21595.90600383,  48143.51097829,  14903.30113549,\n",
       "        31509.95319096,  45072.99032378,  18220.04760538,  24649.90455825,\n",
       "        24983.9667825 ,  45641.13922095,  43385.19687541,  71118.17451452,\n",
       "        23671.624965  ,  33804.2209978 ,  28247.99849255,  36984.42846316,\n",
       "        35794.27014633,  33666.58473459,  26297.39113798,  20271.83734901,\n",
       "        31736.75842708,   4504.94092439,  51718.84974501,  -1231.22005789,\n",
       "        40666.24165133,  36737.18559849,  30849.3989619 ,  54778.18201294,\n",
       "        48143.68993409,  30072.61863274,  10779.39934864,  37460.44845974,\n",
       "        30004.66126804,  12793.10597287,  20381.3715137 ,   5337.51718488,\n",
       "        35614.88425122,  20297.57799924,  42941.28418515,  42334.95787597,\n",
       "        30866.55031608,  10882.65930616,  56340.60349063,  38312.49101119,\n",
       "        63111.73995905,   7975.95700646,  34898.18453593,  43873.20058372,\n",
       "        25952.2940697 ,  18362.52113427,  10202.25785831,  38784.28377102,\n",
       "        28599.48900701,  13124.54204564,  11835.6794776 ,  37963.41509437,\n",
       "        27077.5865618 ,  39521.9229764 ,  25999.00583241,  28747.41204059,\n",
       "       259145.59563684,  37669.97168372,  32728.21121265,   1298.3547248 ,\n",
       "        24223.51253094,  18229.44116685,  30137.5646937 ,  27712.76216905,\n",
       "        27438.6491158 ,  34321.20198614,  19879.6782064 ,  22898.63523776,\n",
       "        61857.68759634,  28359.34763934,  55647.98161784,  36640.37826447,\n",
       "        16494.14377622,  38376.29757821])"
      ]
     },
     "execution_count": 157,
     "metadata": {},
     "output_type": "execute_result"
    }
   ],
   "source": [
    "#Predicted price for the best model\n",
    "y_pred = lasso.predict(X_test)\n",
    "y_pred"
   ]
  },
  {
   "cell_type": "code",
   "execution_count": null,
   "id": "933f0c81",
   "metadata": {},
   "outputs": [],
   "source": []
  }
 ],
 "metadata": {
  "kernelspec": {
   "display_name": "Python 3",
   "language": "python",
   "name": "python3"
  },
  "language_info": {
   "codemirror_mode": {
    "name": "ipython",
    "version": 3
   },
   "file_extension": ".py",
   "mimetype": "text/x-python",
   "name": "python",
   "nbconvert_exporter": "python",
   "pygments_lexer": "ipython3",
   "version": "3.8.8"
  }
 },
 "nbformat": 4,
 "nbformat_minor": 5
}
